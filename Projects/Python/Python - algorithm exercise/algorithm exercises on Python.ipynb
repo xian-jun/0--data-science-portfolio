{
 "cells": [
  {
   "cell_type": "markdown",
   "id": "a6cf20f8",
   "metadata": {
    "toc": true
   },
   "source": [
    "<h1>Table of Contents<span class=\"tocSkip\"></span></h1>\n",
    "<div class=\"toc\"><ul class=\"toc-item\"><li><span><a href=\"#Karatsuba-algorithm\" data-toc-modified-id=\"Karatsuba-algorithm-1\"><span class=\"toc-item-num\">1&nbsp;&nbsp;</span>Karatsuba algorithm</a></span></li><li><span><a href=\"#Sort-functions\" data-toc-modified-id=\"Sort-functions-2\"><span class=\"toc-item-num\">2&nbsp;&nbsp;</span>Sort functions</a></span><ul class=\"toc-item\"><li><span><a href=\"#selection-sort\" data-toc-modified-id=\"selection-sort-2.1\"><span class=\"toc-item-num\">2.1&nbsp;&nbsp;</span>selection sort</a></span></li><li><span><a href=\"#insertion-sort\" data-toc-modified-id=\"insertion-sort-2.2\"><span class=\"toc-item-num\">2.2&nbsp;&nbsp;</span>insertion sort</a></span></li><li><span><a href=\"#Bubble-sort\" data-toc-modified-id=\"Bubble-sort-2.3\"><span class=\"toc-item-num\">2.3&nbsp;&nbsp;</span>Bubble sort</a></span></li></ul></li><li><span><a href=\"#Merge-Sort\" data-toc-modified-id=\"Merge-Sort-3\"><span class=\"toc-item-num\">3&nbsp;&nbsp;</span>Merge Sort</a></span></li><li><span><a href=\"#linear-search\" data-toc-modified-id=\"linear-search-4\"><span class=\"toc-item-num\">4&nbsp;&nbsp;</span>linear search</a></span><ul class=\"toc-item\"><li><span><a href=\"#binary-search\" data-toc-modified-id=\"binary-search-4.1\"><span class=\"toc-item-num\">4.1&nbsp;&nbsp;</span>binary search</a></span></li></ul></li><li><span><a href=\"#greedy-algorithm\" data-toc-modified-id=\"greedy-algorithm-5\"><span class=\"toc-item-num\">5&nbsp;&nbsp;</span>greedy algorithm</a></span><ul class=\"toc-item\"><li><span><a href=\"#knapsack-problem\" data-toc-modified-id=\"knapsack-problem-5.1\"><span class=\"toc-item-num\">5.1&nbsp;&nbsp;</span>knapsack problem</a></span></li><li><span><a href=\"#activity-selection-problem\" data-toc-modified-id=\"activity-selection-problem-5.2\"><span class=\"toc-item-num\">5.2&nbsp;&nbsp;</span>activity selection problem</a></span></li></ul></li></ul></div>"
   ]
  },
  {
   "cell_type": "markdown",
   "id": "395452e4",
   "metadata": {},
   "source": [
    "# Karatsuba algorithm\n",
    "\n",
    "recursive method for quick multiplication\n"
   ]
  },
  {
   "cell_type": "raw",
   "id": "0140e597",
   "metadata": {},
   "source": [
    "function karatsuba (num1, num2)\n",
    "    if (num1 < 10) or (num2 < 10)\n",
    "        return num1 × num2 /* fall back to traditional multiplication */\n",
    "    \n",
    "    /* Calculates the size of the numbers. */\n",
    "    m = min (size_base10(num1), size_base10(num2))\n",
    "    m2 = floor (m / 2) \n",
    "    /* m2 = ceil (m / 2) will also work */\n",
    "    \n",
    "    /* Split the digit sequences in the middle. */\n",
    "    high1, low1 = split_at (num1, m2)\n",
    "    high2, low2 = split_at (num2, m2)\n",
    "    \n",
    "    /* 3 recursive calls made to numbers approximately half the size. */\n",
    "    z0 = karatsuba (low1, low2)\n",
    "    z1 = karatsuba (low1 + high1, low2 + high2)\n",
    "    z2 = karatsuba (high1, high2)\n",
    "    \n",
    "    return (z2 × 10 ^ (m2 × 2)) + ((z1 - z2 - z0) × 10 ^ m2) + z0"
   ]
  },
  {
   "cell_type": "code",
   "execution_count": 1,
   "id": "b8c79434",
   "metadata": {},
   "outputs": [],
   "source": [
    "def karatsuba(num1, num2):\n",
    "    # set up standard to prevent recursion from occuring indefinitely\n",
    "    if (num1<10) or (num2<10):\n",
    "        return num1*num2\n",
    "    \n",
    "    # determine m-digit used as seperator\n",
    "    m = min(len(str(round(abs(num1)))), len(str(round(abs(num2)))))\n",
    "    m2 = m//2\n",
    "    \n",
    "    # determine a,b,c,d separated number from num1 and num2\n",
    "    a = num1 // 10**m2\n",
    "    b = num1 % 10**m2\n",
    "    c = num2// 10**m2\n",
    "    d = num2 % 10**m2\n",
    "    \n",
    "    # recursive computation carried out to divide and conquer\n",
    "    z0 = karatsuba(a,c)\n",
    "    z1 = karatsuba(b,d)\n",
    "    z2 = karatsuba(a+b, c+d)\n",
    "    \n",
    "    # aggregate divided ints and return answer\n",
    "    return(z0 * 10**(m2*2) + ((z2-z0-z1) * 10**m2) + z1)\n",
    "    \n",
    "    "
   ]
  },
  {
   "cell_type": "code",
   "execution_count": 2,
   "id": "fdb288bf",
   "metadata": {},
   "outputs": [
    {
     "data": {
      "text/plain": [
       "2756756"
      ]
     },
     "execution_count": 2,
     "metadata": {},
     "output_type": "execute_result"
    }
   ],
   "source": [
    "karatsuba(1234,2234)"
   ]
  },
  {
   "cell_type": "code",
   "execution_count": 3,
   "id": "41a0b7dc",
   "metadata": {},
   "outputs": [
    {
     "name": "stdout",
     "output_type": "stream",
     "text": [
      "44.7 µs ± 167 ns per loop (mean ± std. dev. of 7 runs, 10000 loops each)\n"
     ]
    }
   ],
   "source": [
    " %timeit karatsuba(999999,999999)"
   ]
  },
  {
   "cell_type": "code",
   "execution_count": 4,
   "id": "03616ddc",
   "metadata": {},
   "outputs": [
    {
     "name": "stdout",
     "output_type": "stream",
     "text": [
      "8 ns ± 0.0495 ns per loop (mean ± std. dev. of 7 runs, 100000000 loops each)\n"
     ]
    }
   ],
   "source": [
    "%timeit 999999*999999"
   ]
  },
  {
   "cell_type": "markdown",
   "id": "9a09e612",
   "metadata": {},
   "source": [
    "method here in python language is just an illustration for the understanding of idea. "
   ]
  },
  {
   "cell_type": "markdown",
   "id": "2ff3eaa7",
   "metadata": {},
   "source": [
    "# Sort functions"
   ]
  },
  {
   "cell_type": "markdown",
   "id": "7199de91",
   "metadata": {},
   "source": [
    "## selection sort\n",
    "```\n",
    "for i in range(len(list)):\n",
    "    list[i] switches position with the smallest value within the list after i \n",
    "```\n"
   ]
  },
  {
   "cell_type": "code",
   "execution_count": 5,
   "id": "0effa48d",
   "metadata": {},
   "outputs": [],
   "source": [
    "import numpy as np\n",
    "\n",
    "numbers = np.random.permutation(20)[:5]"
   ]
  },
  {
   "cell_type": "code",
   "execution_count": 6,
   "id": "daf68961",
   "metadata": {},
   "outputs": [
    {
     "name": "stdout",
     "output_type": "stream",
     "text": [
      "[8 1 4 3 7]\n"
     ]
    }
   ],
   "source": [
    "print(numbers)"
   ]
  },
  {
   "cell_type": "code",
   "execution_count": 7,
   "id": "666003ff",
   "metadata": {
    "code_folding": []
   },
   "outputs": [
    {
     "name": "stdout",
     "output_type": "stream",
     "text": [
      "min_idx:  0 numbers now: [10, 18, 13, 5, 2]\n",
      "i, j, min(up till the last loop):  10 18 10\n",
      "i, j, min(up till the last loop):  10 13 10\n",
      "i, j, min(up till the last loop):  10 5 5\n",
      "i, j, min(up till the last loop):  10 2 2\n",
      "2\n",
      "min_idx:  1 numbers now: [2, 18, 13, 5, 10]\n",
      "i, j, min(up till the last loop):  18 13 13\n",
      "i, j, min(up till the last loop):  18 5 5\n",
      "i, j, min(up till the last loop):  18 10 5\n",
      "5\n",
      "min_idx:  2 numbers now: [2, 5, 13, 18, 10]\n",
      "i, j, min(up till the last loop):  13 18 13\n",
      "i, j, min(up till the last loop):  13 10 10\n",
      "10\n",
      "min_idx:  3 numbers now: [2, 5, 10, 18, 13]\n",
      "i, j, min(up till the last loop):  18 13 13\n",
      "13\n",
      "min_idx:  4 numbers now: [2, 5, 10, 13, 18]\n",
      "18\n"
     ]
    }
   ],
   "source": [
    "numbers = [10,18,13,5,2]\n",
    "\n",
    "for i in range(len(numbers)):\n",
    "    min_idx = i\n",
    "    print('min_idx: ', min_idx, 'numbers now:', numbers) \n",
    "    \n",
    "    for j in range(i+1, len(numbers)):     # amongst the unsorted array\n",
    "        if numbers[min_idx] > numbers[j]:        # if the assumed min number encountered is larger than numbers[j]\n",
    "            min_idx = j                    # j becomes the new min_idx\n",
    "            \n",
    "        print('i, j, min(up till the last loop): ', numbers[i], numbers[j], numbers[min_idx])\n",
    " \n",
    "            \n",
    "    #swap position of new min number with the first\n",
    "    numbers[i], numbers[min_idx] = numbers[min_idx], numbers[i]\n",
    "    print(numbers[i])"
   ]
  },
  {
   "cell_type": "code",
   "execution_count": 8,
   "id": "79607ebd",
   "metadata": {},
   "outputs": [
    {
     "data": {
      "text/plain": [
       "[2, 5, 9, 40, 40, 52]"
      ]
     },
     "execution_count": 8,
     "metadata": {},
     "output_type": "execute_result"
    }
   ],
   "source": [
    "# example 2: \n",
    "\n",
    "n = [2,5,9,40,40,52]\n",
    "\n",
    "def selection_sort(x):\n",
    "    for i in range(len(x)):\n",
    "        min_idx = i\n",
    "        for j in range(i+1, len(x)):\n",
    "            if x[min_idx] > x[j]:\n",
    "                min_idx = j\n",
    "\n",
    "        x[i],x[min_idx] = x[min_idx], x[i]\n",
    "        return x\n",
    "\n",
    "selection_sort(n)"
   ]
  },
  {
   "cell_type": "markdown",
   "id": "48d7426a",
   "metadata": {},
   "source": [
    "## insertion sort\n",
    "\n",
    "```\n",
    "for i in range(1,len(list)):\n",
    "    c/w elements before it (j) , if i <j, i insert to the index of j\n",
    "\n",
    "```\n"
   ]
  },
  {
   "cell_type": "code",
   "execution_count": 9,
   "id": "2df589f6",
   "metadata": {},
   "outputs": [
    {
     "data": {
      "text/plain": [
       "[2, 5, 10, 13, 18]"
      ]
     },
     "execution_count": 9,
     "metadata": {},
     "output_type": "execute_result"
    }
   ],
   "source": [
    "n = [10,18,13,5,2]\n",
    "\n",
    "def insertion_sort(numbers):\n",
    "    for i in range(1,len(numbers)): \n",
    "        for j in range(i-1,-1,-1):           # (i-1) first element which i c/w, -1 to cover index 0\n",
    "            if numbers[j] > numbers[j+1]:    # use j+1 instead of i \n",
    "                numbers[j+1], numbers[j] = numbers[j], numbers[j+1]\n",
    "\n",
    "        #print('i:', i, 'numbers now:', numbers)\n",
    "    return numbers\n",
    "\n",
    "insertion_sort(n)            \n",
    "        "
   ]
  },
  {
   "cell_type": "code",
   "execution_count": 10,
   "id": "a78994f1",
   "metadata": {},
   "outputs": [
    {
     "name": "stdout",
     "output_type": "stream",
     "text": [
      "i: 1 numbers: [10, 18, 13, 5, 2]\n",
      "i: 2 numbers: [10, 13, 18, 5, 2]\n",
      "i: 3 numbers: [10, 13, 5, 18, 2]\n",
      "i: 4 numbers: [10, 13, 5, 2, 18]\n"
     ]
    }
   ],
   "source": [
    "# if use i instead of j+1, only 1 element keeps moving backwards\n",
    "\n",
    "numbers = [10,18,13,5,2]\n",
    "\n",
    "for i in range(1,len(numbers)):\n",
    "    for j in range(i-1, -1, -1):    \n",
    "        if numbers[j] > numbers[i]:\n",
    "            numbers[i], numbers[j] = numbers[j], numbers[i]\n",
    "            \n",
    "    print('i:', i, 'numbers:', numbers)"
   ]
  },
  {
   "cell_type": "code",
   "execution_count": 11,
   "id": "a39a59ad",
   "metadata": {},
   "outputs": [
    {
     "name": "stdout",
     "output_type": "stream",
     "text": [
      "i: 1 numbers: [10, 18, 13, 5, 2]\n",
      "i: 2 numbers: [10, 13, 18, 5, 2]\n",
      "i: 3 numbers: [5, 10, 13, 18, 2]\n",
      "i: 4 numbers: [2, 5, 10, 13, 18]\n"
     ]
    }
   ],
   "source": [
    "# example 2: while loop\n",
    "\n",
    "numbers = [10,18,13,5,2]\n",
    "for i in range(1, len(numbers)):    # starts with 1 as it's the 1st that has an element to c/w\n",
    "    j = i-1                         # j is the first element that i compares with\n",
    "\n",
    "    while j >= 0 and numbers[j+1] < numbers[j]:\n",
    "        numbers[j+1], numbers[j] = numbers[j], numbers[j+1]\n",
    "        j -= 1\n",
    "    \n",
    "    print('i:', i, 'numbers:', numbers)\n",
    "\n",
    "\n"
   ]
  },
  {
   "cell_type": "markdown",
   "id": "2969546f",
   "metadata": {},
   "source": [
    "## Bubble sort\n",
    "\n",
    "it works just by repeatedly swapping position of element i till it is sorted"
   ]
  },
  {
   "cell_type": "code",
   "execution_count": 12,
   "id": "a98549ad",
   "metadata": {},
   "outputs": [
    {
     "data": {
      "text/plain": [
       "[2, 5, 10, 13, 18]"
      ]
     },
     "execution_count": 12,
     "metadata": {},
     "output_type": "execute_result"
    }
   ],
   "source": [
    "n = [10,18,13,5,2]\n",
    "\n",
    "def bubble_sort(numbers):\n",
    "    for i in range(len(numbers)-1):\n",
    "        for j in range(0, len(numbers)-i-1):\n",
    "            if numbers[j] > numbers[j+1]:\n",
    "                numbers[j], numbers[j+1] = numbers[j+1], numbers[j]\n",
    "\n",
    "        #print('i:', i, 'numbers:', numbers)\n",
    "    return numbers\n",
    "\n",
    "bubble_sort(n)"
   ]
  },
  {
   "cell_type": "code",
   "execution_count": 13,
   "id": "fef4446f",
   "metadata": {},
   "outputs": [
    {
     "name": "stdout",
     "output_type": "stream",
     "text": [
      "i: 0 numbers: [18, 13, 10, 5, 7, 45, 87, 2, 54, 2]\n",
      "i: 1 numbers: [18, 13, 10, 7, 45, 87, 5, 54, 2, 2]\n",
      "i: 2 numbers: [18, 13, 10, 45, 87, 7, 54, 5, 2, 2]\n",
      "i: 3 numbers: [18, 13, 45, 87, 10, 54, 7, 5, 2, 2]\n",
      "i: 4 numbers: [18, 45, 87, 13, 54, 10, 7, 5, 2, 2]\n",
      "i: 5 numbers: [45, 87, 18, 54, 13, 10, 7, 5, 2, 2]\n",
      "i: 6 numbers: [87, 45, 54, 18, 13, 10, 7, 5, 2, 2]\n",
      "i: 7 numbers: [87, 54, 45, 18, 13, 10, 7, 5, 2, 2]\n",
      "i: 8 numbers: [87, 54, 45, 18, 13, 10, 7, 5, 2, 2]\n",
      "i: 9 numbers: [87, 54, 45, 18, 13, 10, 7, 5, 2, 2]\n"
     ]
    }
   ],
   "source": [
    "#descending order\n",
    "numbers = [10,18,13,5,2,7,45,87,2,54]\n",
    "\n",
    "for i in range(len(numbers)):\n",
    "    for j in range(0, len(numbers)-i-1):\n",
    "        if numbers[j+1] > numbers[j]:\n",
    "            numbers[j], numbers[j+1] = numbers[j+1], numbers[j]\n",
    "            \n",
    "    print('i:', i, 'numbers:', numbers)"
   ]
  },
  {
   "cell_type": "markdown",
   "id": "580ec072",
   "metadata": {},
   "source": [
    "# Merge Sort"
   ]
  },
  {
   "cell_type": "code",
   "execution_count": 14,
   "id": "3d20101c",
   "metadata": {},
   "outputs": [
    {
     "name": "stdout",
     "output_type": "stream",
     "text": [
      "[   154    154    154 ...  52533  52533 117021]\n"
     ]
    }
   ],
   "source": [
    "def mergesort(arr):\n",
    "    if len(arr)> 1:\n",
    "        split = len(arr)//2\n",
    "        left = arr[:split]\n",
    "        right = arr[split:]\n",
    "        \n",
    "        # recursion to keep dividing the list until len(arr) <= 1\n",
    "        mergesort(left)\n",
    "        mergesort(right)\n",
    "        \n",
    "        # conquer: sort and combine\n",
    "        i = j = k = 0\n",
    "        \n",
    "        while i<len(left) and j<len(right):\n",
    "            if left[i] < right[j]:\n",
    "                arr[k] = left[i]\n",
    "                i += 1\n",
    "            else:\n",
    "                arr[k] = right[j]\n",
    "                j += 1\n",
    "            k += 1\n",
    "            \n",
    "        while i < len(left):\n",
    "            arr[k]= left[i]\n",
    "            i += 1\n",
    "            k += 1\n",
    "            \n",
    "        while j < len(right):\n",
    "            arr[k] = right[j]\n",
    "            j += 1\n",
    "            k +=1\n",
    "        \n",
    "        return arr\n",
    "\n",
    "import numpy as np\n",
    "x = np.random.randint(0,200000,2000)\n",
    "print(mergesort(x))"
   ]
  },
  {
   "cell_type": "code",
   "execution_count": 15,
   "id": "e0e4d5c4",
   "metadata": {},
   "outputs": [
    {
     "name": "stdout",
     "output_type": "stream",
     "text": [
      "10.3 ms ± 41.7 µs per loop (mean ± std. dev. of 7 runs, 100 loops each)\n"
     ]
    }
   ],
   "source": [
    "import timeit\n",
    "%timeit mergesort(x)"
   ]
  },
  {
   "cell_type": "code",
   "execution_count": 16,
   "id": "5c027e64",
   "metadata": {
    "scrolled": true
   },
   "outputs": [
    {
     "name": "stdout",
     "output_type": "stream",
     "text": [
      "433 ms ± 2.89 ms per loop (mean ± std. dev. of 7 runs, 1 loop each)\n"
     ]
    }
   ],
   "source": [
    "%timeit bubble_sort(x)"
   ]
  },
  {
   "cell_type": "code",
   "execution_count": 17,
   "id": "38489862",
   "metadata": {},
   "outputs": [
    {
     "name": "stdout",
     "output_type": "stream",
     "text": [
      "403 µs ± 3.26 µs per loop (mean ± std. dev. of 7 runs, 1000 loops each)\n"
     ]
    }
   ],
   "source": [
    "%timeit selection_sort(x)\n"
   ]
  },
  {
   "cell_type": "code",
   "execution_count": 18,
   "id": "e6558370",
   "metadata": {},
   "outputs": [
    {
     "name": "stdout",
     "output_type": "stream",
     "text": [
      "439 ms ± 5.98 ms per loop (mean ± std. dev. of 7 runs, 1 loop each)\n"
     ]
    }
   ],
   "source": [
    "%timeit insertion_sort(x)\n"
   ]
  },
  {
   "cell_type": "code",
   "execution_count": 19,
   "id": "5b2e259c",
   "metadata": {},
   "outputs": [],
   "source": [
    "def s(arr):\n",
    "    return sort(arr)"
   ]
  },
  {
   "cell_type": "code",
   "execution_count": 20,
   "id": "01993b45",
   "metadata": {},
   "outputs": [
    {
     "name": "stdout",
     "output_type": "stream",
     "text": [
      "9.67 µs ± 15.5 ns per loop (mean ± std. dev. of 7 runs, 100000 loops each)\n"
     ]
    }
   ],
   "source": [
    "%timeit np.sort(x)"
   ]
  },
  {
   "cell_type": "markdown",
   "id": "f6b1add3",
   "metadata": {},
   "source": [
    "# linear search"
   ]
  },
  {
   "cell_type": "code",
   "execution_count": 21,
   "id": "7bbb5cb2",
   "metadata": {},
   "outputs": [],
   "source": [
    "def linear_search(arr, target):\n",
    "    # returns index position if target found, else return None\n",
    "    \n",
    "    for i in range(0,len(arr)):\n",
    "        if arr[i] == target:\n",
    "            return i\n",
    "\n",
    "        \n",
    "# or alternatively\n",
    "\n",
    "def default_search(list, target):\n",
    "    list.index(target)\n",
    "    \n",
    "def verify(index):\n",
    "    if bool(index) == True:\n",
    "        print(\"target found at index: \", index)\n",
    "    else:\n",
    "        print(\"target not found\")\n",
    "        \n"
   ]
  },
  {
   "cell_type": "code",
   "execution_count": 22,
   "id": "810c13a7",
   "metadata": {},
   "outputs": [
    {
     "name": "stdout",
     "output_type": "stream",
     "text": [
      "None\n",
      "target found at index:  2\n"
     ]
    }
   ],
   "source": [
    "arr = [1,5,86,64,34,100]\n",
    "\n",
    "print(linear_search(arr, 75))\n",
    "verify(linear_search(arr, 86))"
   ]
  },
  {
   "cell_type": "markdown",
   "id": "aa130f5d",
   "metadata": {},
   "source": [
    "## binary search"
   ]
  },
  {
   "cell_type": "code",
   "execution_count": 23,
   "id": "6a009d16",
   "metadata": {},
   "outputs": [
    {
     "data": {
      "text/plain": [
       "False"
      ]
     },
     "execution_count": 23,
     "metadata": {},
     "output_type": "execute_result"
    }
   ],
   "source": [
    "'x' < 'c'"
   ]
  },
  {
   "cell_type": "code",
   "execution_count": 24,
   "id": "4a9e39a5",
   "metadata": {},
   "outputs": [],
   "source": [
    "def binary_search(arr, target):\n",
    "    first = 0\n",
    "    last = len(arr) \n",
    "    \n",
    "    while first <= last:\n",
    "        midpoint = (last + first) // 2\n",
    "    \n",
    "        if target < arr[midpoint]:\n",
    "            last = midpoint - 1\n",
    "        elif target > arr[midpoint]:\n",
    "            first = midpoint + 1        \n",
    "        else:\n",
    "            return midpoint"
   ]
  },
  {
   "cell_type": "code",
   "execution_count": 25,
   "id": "d5b62ba8",
   "metadata": {},
   "outputs": [
    {
     "data": {
      "text/plain": [
       "[0, 2, 4, 6, 8]"
      ]
     },
     "execution_count": 25,
     "metadata": {},
     "output_type": "execute_result"
    }
   ],
   "source": [
    "list(range(0,10,2))"
   ]
  },
  {
   "cell_type": "code",
   "execution_count": 26,
   "id": "d758f302",
   "metadata": {},
   "outputs": [
    {
     "name": "stdout",
     "output_type": "stream",
     "text": [
      "[0.0000e+00 2.0000e+00 4.0000e+00 ... 1.9996e+04 1.9998e+04 2.0000e+04]\n"
     ]
    }
   ],
   "source": [
    "import numpy as np\n",
    "arr_test = np.round(np.linspace(0,20000,10000))\n",
    "print(arr_test)\n"
   ]
  },
  {
   "cell_type": "code",
   "execution_count": 27,
   "id": "ccc43894",
   "metadata": {},
   "outputs": [
    {
     "name": "stdout",
     "output_type": "stream",
     "text": [
      "target found at index:  3\n"
     ]
    }
   ],
   "source": [
    "verify(binary_search(arr_test, 6))"
   ]
  },
  {
   "cell_type": "code",
   "execution_count": 28,
   "id": "9cd08a30",
   "metadata": {},
   "outputs": [],
   "source": [
    "def recursive_binary_search(arr, target):\n",
    "    if len(arr) > 0:\n",
    "\n",
    "        midpoint = len(arr) // 2\n",
    "        if arr[midpoint] == target:\n",
    "            return True\n",
    "        else:\n",
    "            if arr[midpoint] < target:\n",
    "                arr = arr[midpoint + 1:]\n",
    "                return recursive_binary_search(arr, target)\n",
    "            else:\n",
    "                arr = arr[: midpoint]\n",
    "                return recursive_binary_search(arr, target)\n",
    "            \n",
    "    else:\n",
    "        return None\n",
    "            \n",
    "def verify(result):\n",
    "    print('Target found: ', result)\n",
    "    \n"
   ]
  },
  {
   "cell_type": "code",
   "execution_count": 29,
   "id": "00786ddd",
   "metadata": {},
   "outputs": [
    {
     "name": "stdout",
     "output_type": "stream",
     "text": [
      "Target found:  None\n",
      "None\n"
     ]
    }
   ],
   "source": [
    "numbers = [1,2,3,4,5,6,7,8]\n",
    "result = recursive_binary_search(numbers, 12)\n",
    "verify(result)\n",
    "print(recursive_binary_search(arr,6))"
   ]
  },
  {
   "cell_type": "code",
   "execution_count": 30,
   "id": "35c1accf",
   "metadata": {},
   "outputs": [
    {
     "name": "stdout",
     "output_type": "stream",
     "text": [
      "index of target is:  2\n"
     ]
    }
   ],
   "source": [
    "def recursive_binary_search_i(arr, low, high, target): #low and high needs to be the arguments so that they can be recurred\n",
    "    \n",
    "    if high >= low:\n",
    "        midpoint = (high + low) // 2\n",
    "        \n",
    "        if arr[midpoint] == target:\n",
    "            return midpoint\n",
    "        else:\n",
    "            if arr[midpoint] > target:\n",
    "                return recursive_binary_search_i(arr, low, midpoint, target)\n",
    "            else:\n",
    "                low, high = (midpoint+1), (len(arr)-1)\n",
    "                return recursive_binary_search_i(arr, midpoint+1, high, target)\n",
    "\n",
    "def verify(result):\n",
    "    print('index of target is: ', result)\n",
    "    \n",
    "arr = [1,2,3,4,5,6,7,8]\n",
    "\n",
    "result = recursive_binary_search_i(arr, 0, len(arr)-1, 3)\n",
    "verify(result)"
   ]
  },
  {
   "cell_type": "code",
   "execution_count": 31,
   "id": "943bafb3",
   "metadata": {},
   "outputs": [],
   "source": [
    "# benchmarking arr_test\n",
    "x = list(arr_test)"
   ]
  },
  {
   "cell_type": "code",
   "execution_count": 32,
   "id": "81b47c95",
   "metadata": {},
   "outputs": [
    {
     "name": "stdout",
     "output_type": "stream",
     "text": [
      "4.38 µs ± 6.05 ns per loop (mean ± std. dev. of 7 runs, 100000 loops each)\n"
     ]
    }
   ],
   "source": [
    "# binary search by while loop (logarithm runtime), consistent for larger data\n",
    "%timeit binary_search(x,100)"
   ]
  },
  {
   "cell_type": "code",
   "execution_count": 33,
   "id": "5af95a3e",
   "metadata": {},
   "outputs": [
    {
     "name": "stdout",
     "output_type": "stream",
     "text": [
      "394 ns ± 3.03 ns per loop (mean ± std. dev. of 7 runs, 1000000 loops each)\n"
     ]
    }
   ],
   "source": [
    "# recursive is really slow, even c/w looping\n",
    "%timeit recursive_binary_search_i(x, 0, len(arr)-1, 6)"
   ]
  },
  {
   "cell_type": "code",
   "execution_count": 34,
   "id": "d043ed84",
   "metadata": {},
   "outputs": [
    {
     "name": "stdout",
     "output_type": "stream",
     "text": [
      "2.34 µs ± 5.78 ns per loop (mean ± std. dev. of 7 runs, 100000 loops each)\n"
     ]
    }
   ],
   "source": [
    "%timeit np.where(x == 100)"
   ]
  },
  {
   "cell_type": "code",
   "execution_count": 35,
   "id": "1e041a5d",
   "metadata": {},
   "outputs": [
    {
     "name": "stdout",
     "output_type": "stream",
     "text": [
      "5.47 µs ± 43.4 ns per loop (mean ± std. dev. of 7 runs, 100000 loops each)\n"
     ]
    }
   ],
   "source": [
    "# x.index() method is by searching linearly (linear time), time increases with data\n",
    "x = list(arr_test)\n",
    "%timeit x.index(100)"
   ]
  },
  {
   "cell_type": "code",
   "execution_count": 36,
   "id": "682ee103",
   "metadata": {},
   "outputs": [
    {
     "name": "stdout",
     "output_type": "stream",
     "text": [
      "26.3 µs ± 48.3 ns per loop (mean ± std. dev. of 7 runs, 10000 loops each)\n"
     ]
    }
   ],
   "source": [
    "%timeit x.index(500)"
   ]
  },
  {
   "cell_type": "markdown",
   "id": "4ff7c65c",
   "metadata": {},
   "source": [
    "# greedy algorithm"
   ]
  },
  {
   "cell_type": "markdown",
   "id": "df47dffc",
   "metadata": {},
   "source": [
    "## knapsack problem"
   ]
  },
  {
   "cell_type": "code",
   "execution_count": 37,
   "id": "5ae34d41",
   "metadata": {},
   "outputs": [],
   "source": [
    "class Item(object):\n",
    "    \n",
    "    def __init__(self, n, v, w):\n",
    "        self.name = n\n",
    "        self.value = v\n",
    "        self.weight = w\n",
    "    \n",
    "    def getName(self):\n",
    "        return self.name\n",
    "    \n",
    "    def getValue(self):\n",
    "        return self.value\n",
    "    \n",
    "    def getWeight(self):\n",
    "        return self.weight\n",
    "    \n",
    "    def __str__(self):\n",
    "        result = '<' + self.name + ', ' + str(self.value)\\\n",
    "        + ', ' + str(self.weight) + '>'        \n",
    "        return result\n",
    "    \n",
    "    __repr__ = __str__ # printing a dict or list invokes dict.__str__/list.__str__ respectively,\n",
    "                       # which use the __repr__ method to serialise contained items.\n",
    "    \n",
    "def value(item):\n",
    "    return item.getValue()\n",
    "\n",
    "def weightInverse(item):\n",
    "    return 1/item.getWeight()\n",
    "\n",
    "def density(item):\n",
    "    return item.getValue() / item.getWeight()"
   ]
  },
  {
   "cell_type": "code",
   "execution_count": 38,
   "id": "a9019477",
   "metadata": {},
   "outputs": [
    {
     "data": {
      "text/plain": [
       "[<Book, 10, 1>,\n",
       " <Radio, 20, 4>,\n",
       " <Vase, 50, 2>,\n",
       " <Painting, 90, 9>,\n",
       " <Clock, 175, 10>,\n",
       " <Computer, 200, 20>]"
      ]
     },
     "execution_count": 38,
     "metadata": {},
     "output_type": "execute_result"
    }
   ],
   "source": [
    "def buildItems():\n",
    "    names = ['Clock', 'Painting', 'Radio', 'Vase', 'Book', 'Computer']\n",
    "    values = [175, 90, 20, 50, 10, 200]\n",
    "    weights = [10, 9, 4, 2, 1, 20]\n",
    "    Items = []\n",
    "    \n",
    "    for i in range(len(values)):\n",
    "        Items.append(Item(names[i], values[i], weights[i]))\n",
    "    return Items\n",
    "\n",
    "buildItems()\n",
    "itemsss = sorted(buildItems(), key = value)\n",
    "itemsss"
   ]
  },
  {
   "cell_type": "code",
   "execution_count": 39,
   "id": "93dac2d7",
   "metadata": {},
   "outputs": [
    {
     "data": {
      "text/plain": [
       "[<Book, 10, 1>,\n",
       " <Radio, 20, 4>,\n",
       " <Vase, 50, 2>,\n",
       " <Painting, 90, 9>,\n",
       " <Clock, 175, 10>,\n",
       " <Computer, 200, 20>]"
      ]
     },
     "execution_count": 39,
     "metadata": {},
     "output_type": "execute_result"
    }
   ],
   "source": [
    "itemsss = sorted(buildItems(), key = value)\n",
    "itemsss"
   ]
  },
  {
   "cell_type": "code",
   "execution_count": 40,
   "id": "e637bd52",
   "metadata": {},
   "outputs": [],
   "source": [
    "def greedyAlgorithm(items, maxweight, keyfunction):\n",
    "    'maxweight is the constraint set on knapsack, \\\n",
    "     keyfunction determines the parameter that greedyAlgorithm optimizes on'\n",
    "    \n",
    "    itemsCopy = sorted(items, key = keyfunction, reverse=True)\n",
    "    result = []\n",
    "    totalValue, totalWeight = 0.0, 0.0\n",
    "    for i in range(len(itemsCopy)):\n",
    "        if totalWeight + itemsCopy[i].getWeight() <= maxweight:\n",
    "            result.append(itemsCopy[i])\n",
    "            totalValue += itemsCopy[i].getValue()\n",
    "            totalWeight += itemsCopy[i].getWeight()\n",
    "    \n",
    "    return(result, totalValue)"
   ]
  },
  {
   "cell_type": "code",
   "execution_count": 41,
   "id": "c79075dd",
   "metadata": {},
   "outputs": [
    {
     "name": "stdout",
     "output_type": "stream",
     "text": [
      "total value of items taken is  200.0\n",
      "     <Computer, 200, 20>\n",
      "total value of items taken is  255.0\n",
      "     <Vase, 50, 2>\n",
      "     <Clock, 175, 10>\n",
      "     <Book, 10, 1>\n",
      "     <Radio, 20, 4>\n",
      "total value of items taken is  170.0\n",
      "     <Book, 10, 1>\n",
      "     <Vase, 50, 2>\n",
      "     <Radio, 20, 4>\n",
      "     <Painting, 90, 9>\n"
     ]
    }
   ],
   "source": [
    "def testGreedy(items, maxweight, keyfunction):\n",
    "    taken, val = greedyAlgorithm(items, maxweight, keyfunction)\n",
    "    print('total value of items taken is ', val)\n",
    "    for i in taken:\n",
    "        print('    ', i)\n",
    "        \n",
    "testGreedy(buildItems(), 20, keyfunction = value)\n",
    "testGreedy(buildItems(), 20, density)\n",
    "testGreedy(buildItems(), 20, weightInverse)"
   ]
  },
  {
   "cell_type": "code",
   "execution_count": 42,
   "id": "df5d60d0",
   "metadata": {
    "scrolled": true
   },
   "outputs": [
    {
     "name": "stdout",
     "output_type": "stream",
     "text": [
      "total value of items taken is  200.0\n",
      "     <Computer, 200, 20>\n",
      "total value of items taken is  255.0\n",
      "     <Vase, 50, 2>\n",
      "     <Clock, 175, 10>\n",
      "     <Book, 10, 1>\n",
      "     <Radio, 20, 4>\n",
      "total value of items taken is  170.0\n",
      "     <Book, 10, 1>\n",
      "     <Vase, 50, 2>\n",
      "     <Radio, 20, 4>\n",
      "     <Painting, 90, 9>\n"
     ]
    }
   ],
   "source": [
    "class Item(object):\n",
    "    \n",
    "    def __init__(self, n, v, w):\n",
    "        self.name = n\n",
    "        self.value = v\n",
    "        self.weight = w\n",
    "    \n",
    "    def getName(self):\n",
    "        return self.name\n",
    "    \n",
    "    def getValue(self):\n",
    "        return self.value\n",
    "    \n",
    "    def getWeight(self):\n",
    "        return self.weight\n",
    "    \n",
    "    def __str__(self):\n",
    "        result = '<' + self.name + ', ' + str(self.value)\\\n",
    "        + ', ' + str(self.weight) + '>'        \n",
    "        return result\n",
    "    \n",
    "    __repr__ = __str__ # printing a dict or list invokes dict.__str__/list.__str__ respectively,\n",
    "                       # which use the __repr__ method to serialise contained items.\n",
    "    \n",
    "def value(item):\n",
    "    return item.getValue()\n",
    "\n",
    "def weightInverse(item):\n",
    "    return 1/item.getWeight()\n",
    "\n",
    "def density(item):\n",
    "    return item.getValue() / item.getWeight()\n",
    "\n",
    "def buildItems():\n",
    "    names = ['Clock', 'Painting', 'Radio', 'Vase', 'Book', 'Computer']\n",
    "    values = [175, 90, 20, 50, 10, 200]\n",
    "    weights = [10, 9, 4, 2, 1, 20]\n",
    "    Items = []\n",
    "    \n",
    "    for i in range(len(values)):\n",
    "        Items.append(Item(names[i], values[i], weights[i]))\n",
    "    return Items\n",
    "\n",
    "buildItems()\n",
    "itemsss = sorted(buildItems(), key = value)\n",
    "itemsss\n",
    "\n",
    "itemsss = sorted(buildItems(), key = value)\n",
    "itemsss\n",
    "\n",
    "def greedyAlgorithm(items, maxweight, keyfunction):\n",
    "    'maxweight is the constraint set on knapsack, \\\n",
    "     keyfunction determines the parameter that greedyAlgorithm optimizes on'\n",
    "    \n",
    "    itemsCopy = sorted(items, key = keyfunction, reverse=True)\n",
    "    result = []\n",
    "    totalValue, totalWeight = 0.0, 0.0\n",
    "    for i in range(len(itemsCopy)):\n",
    "        if totalWeight + itemsCopy[i].getWeight() <= maxweight:\n",
    "            result.append(itemsCopy[i])\n",
    "            totalValue += itemsCopy[i].getValue()\n",
    "            totalWeight += itemsCopy[i].getWeight()\n",
    "    \n",
    "    return(result, totalValue)\n",
    "\n",
    "def testGreedy(items, maxweight, keyfunction):\n",
    "    taken, val = greedyAlgorithm(items, maxweight, keyfunction)\n",
    "    print('total value of items taken is ', val)\n",
    "    for i in taken:\n",
    "        print('    ', i)\n",
    "        \n",
    "testGreedy(buildItems(), 20, keyfunction = value)\n",
    "testGreedy(buildItems(), 20, density)\n",
    "testGreedy(buildItems(), 20, weightInverse)"
   ]
  },
  {
   "cell_type": "markdown",
   "id": "544fa131",
   "metadata": {},
   "source": [
    "## activity selection problem\n",
    "\n",
    "Given a set of activities, along with the starting and finishing time of each activity, find the maximum number of activities performed by a single person assuming that a person can only work on a single activity at a time"
   ]
  },
  {
   "cell_type": "code",
   "execution_count": 13,
   "id": "4c254bad",
   "metadata": {},
   "outputs": [
    {
     "name": "stdout",
     "output_type": "stream",
     "text": [
      "[1, 3, 0, 5, 3, 5, 6, 8, 8, 2, 12]\n",
      "[4, 5, 6, 7, 8, 9, 10, 11, 12, 13, 14]\n"
     ]
    }
   ],
   "source": [
    "start_finish_time = (1, 4), (3, 5), (0, 6), (5, 7), (3, 8), (5, 9), (6, 10), (8, 11), (8, 12), (2, 13), (12, 14)\n",
    "\n",
    "def start_and_finish_time(sortedActivities):\n",
    "    s = []\n",
    "    f = []\n",
    "    for i in sortedActivities:\n",
    "        s.append(i[0])\n",
    "        f.append(i[1])\n",
    "        \n",
    "    return(s, f)\n",
    "\n",
    "start, finish = start_and_finish_time(start_finish_time)\n",
    "print(start)\n",
    "print(finish)\n",
    "\n",
    "time = [finish[i] - start[i] for i in range(len(start))]"
   ]
  },
  {
   "cell_type": "code",
   "execution_count": 14,
   "id": "eb42bcb5",
   "metadata": {},
   "outputs": [],
   "source": [
    "class activities(object):\n",
    "    \n",
    "    def __init__(self, sft, s,f,t):\n",
    "        self.start_finish_time = sft\n",
    "        self.start = s\n",
    "        self.finish = f\n",
    "        self.time = t\n",
    "        \n",
    "    def getsft(self):\n",
    "        return self.start_finish_time\n",
    "    \n",
    "    def getstart(self):\n",
    "        return self.start\n",
    "    \n",
    "    def getfinish(self):\n",
    "        return self.finish\n",
    "    \n",
    "    def gettime(self):\n",
    "        return self.time\n",
    "    \n",
    "    def __str__(self):\n",
    "        return '<{}, {}, {}, {}>'.format(self.start_finish_time, self.start, self.finish, self.time)\n",
    "    \n",
    "    __repr__ = __str__"
   ]
  },
  {
   "cell_type": "code",
   "execution_count": 15,
   "id": "4d76bcf7",
   "metadata": {},
   "outputs": [
    {
     "data": {
      "text/plain": [
       "[<(1, 4), 1, 4, 3>,\n",
       " <(3, 5), 3, 5, 2>,\n",
       " <(0, 6), 0, 6, 6>,\n",
       " <(5, 7), 5, 7, 2>,\n",
       " <(3, 8), 3, 8, 5>,\n",
       " <(5, 9), 5, 9, 4>,\n",
       " <(6, 10), 6, 10, 4>,\n",
       " <(8, 11), 8, 11, 3>,\n",
       " <(8, 12), 8, 12, 4>,\n",
       " <(2, 13), 2, 13, 11>,\n",
       " <(12, 14), 12, 14, 2>]"
      ]
     },
     "execution_count": 15,
     "metadata": {},
     "output_type": "execute_result"
    }
   ],
   "source": [
    "def buildactivities():\n",
    "    sft = list(start_finish_time)\n",
    "    s = start\n",
    "    f = finish\n",
    "    t = time\n",
    "    x = []\n",
    "    \n",
    "    for i in range(len(start_finish_time)):\n",
    "        x.append(activities(sft[i], s[i], f[i], t[i]))\n",
    "        \n",
    "    return x\n",
    "\n",
    "buildactivities()\n",
    "    "
   ]
  },
  {
   "cell_type": "code",
   "execution_count": 16,
   "id": "b248d2b7",
   "metadata": {},
   "outputs": [],
   "source": [
    "# keyfunctions used for sorting    \n",
    "def time_(activity):\n",
    "    return activity.gettime()\n",
    "\n",
    "def finish_time(activity):\n",
    "    return activity.getfinish()\n",
    "\n",
    "def start_time(activity):\n",
    "    return activity.getstart()\n",
    "\n",
    "activitiessorted_time = sorted(buildactivities(), key = time_)\n",
    "activitiessorted_start = sorted(buildactivities(), key = start_time)\n",
    "activitiessorted_finish = sorted(buildactivities(), key = finish_time)"
   ]
  },
  {
   "cell_type": "code",
   "execution_count": 17,
   "id": "7ebdc5e7",
   "metadata": {},
   "outputs": [
    {
     "data": {
      "text/plain": [
       "[3, 5, 12, 1, 8, 5, 6, 8, 3, 0, 2]"
      ]
     },
     "execution_count": 17,
     "metadata": {},
     "output_type": "execute_result"
    }
   ],
   "source": [
    "def start_and_finish_time(sortedactivities):\n",
    "    start, end = [], []\n",
    "    \n",
    "    for i in range(len(sortedactivities)):\n",
    "        start.append(sortedactivities[i].getstart())\n",
    "        end.append(sortedactivities[i].getfinish())\n",
    "    return start, end\n",
    "\n",
    "start, finish = start_and_finish_time(activitiessorted_time)\n",
    "start"
   ]
  },
  {
   "cell_type": "code",
   "execution_count": 18,
   "id": "a6edbd24",
   "metadata": {},
   "outputs": [
    {
     "data": {
      "text/plain": [
       "([<(3, 5), 3, 5, 2>,\n",
       "  <(5, 7), 5, 7, 2>,\n",
       "  <(12, 14), 12, 14, 2>,\n",
       "  <(8, 11), 8, 11, 3>],\n",
       " 9)"
      ]
     },
     "execution_count": 18,
     "metadata": {},
     "output_type": "execute_result"
    }
   ],
   "source": [
    "def greedyalgorithm_1(sort_parameter):\n",
    "    \n",
    "    start, finish = start_and_finish_time(sort_parameter)\n",
    "#def greedyactivities():\n",
    "    activities = []\n",
    "    total_activitiesTime = []\n",
    "\n",
    "    # sort the set with smallest time first\n",
    "\n",
    "\n",
    "    for i in range(len(start_finish_time)):\n",
    "        *curr_activitiesTime, = [i for i in range(start[i],finish[i])]\n",
    "        #print(curr_activitiesTime)\n",
    "        if not set(curr_activitiesTime).intersection(total_activitiesTime):   # O(n)\n",
    "        #if not any(j in curr_activitiesTime for j in total_activitiesTime):   #O(n^2)\n",
    "            for j in curr_activitiesTime:\n",
    "                total_activitiesTime.append(j)\n",
    "            #print(total_activitiesTime)\n",
    "            activities.append(sort_parameter[i])\n",
    "            \n",
    "    total_time_used = len(total_activitiesTime)\n",
    "            \n",
    "    return (activities, total_time_used) \n",
    "\n",
    "greedyalgorithm_1(activitiessorted_time)"
   ]
  },
  {
   "cell_type": "code",
   "execution_count": 19,
   "id": "3e63984f",
   "metadata": {
    "scrolled": true
   },
   "outputs": [
    {
     "name": "stdout",
     "output_type": "stream",
     "text": [
      "total time used is  12 hours\n",
      "    <(0, 6), 0, 6, 6>\n",
      "    <(6, 10), 6, 10, 4>\n",
      "    <(12, 14), 12, 14, 2>\n",
      "total time used is  10 hours\n",
      "    <(1, 4), 1, 4, 3>\n",
      "    <(5, 7), 5, 7, 2>\n",
      "    <(8, 11), 8, 11, 3>\n",
      "    <(12, 14), 12, 14, 2>\n",
      "total time used is  9 hours\n",
      "    <(3, 5), 3, 5, 2>\n",
      "    <(5, 7), 5, 7, 2>\n",
      "    <(12, 14), 12, 14, 2>\n",
      "    <(8, 11), 8, 11, 3>\n"
     ]
    }
   ],
   "source": [
    "def test_algorithm(parameter):\n",
    "    taken, val = greedyalgorithm_1(parameter)\n",
    "    print('total time used is ', val, 'hours')\n",
    "    for i in range(len(taken)):\n",
    "        print('   ', taken[i])\n",
    "        \n",
    "test_algorithm(activitiessorted_start)\n",
    "test_algorithm(activitiessorted_finish)\n",
    "test_algorithm(activitiessorted_time)"
   ]
  },
  {
   "cell_type": "code",
   "execution_count": 20,
   "id": "25211d03",
   "metadata": {},
   "outputs": [
    {
     "name": "stdout",
     "output_type": "stream",
     "text": [
      "[(1, 4), (12, 14), (5, 7), (8, 11)]\n"
     ]
    }
   ],
   "source": [
    "# suggested optimization method (sorted by finishing time):\n",
    "\n",
    "# Activity selection problem\n",
    "def selectActivity(activities):\n",
    "    '''return index for activities'''\n",
    "\n",
    "    last_index= 0\n",
    "    output_index = set()\n",
    " \n",
    "    if len(activities):\n",
    "        output_index.add(0)     # add the index for first activity if there is any activities\n",
    "    activities = sorted(activities, key=lambda x: x[1])     # sort according to finishing time\n",
    "\n",
    "    for current_index in range(1, len(activities)):  # if no 1, first activity start will be compared with its own end\n",
    " \n",
    "        if activities[current_index][0] >= activities[last_index][1]:\n",
    "            output_index.add(current_index)\n",
    "            last_index= current_index            # update `i` as the last selected activity\n",
    " \n",
    "    return output_index\n",
    " \n",
    " \n",
    "if __name__ == '__main__':\n",
    " \n",
    "    # List of given jobs. Each job has an identifier, a deadline, and a\n",
    "    # profit associated with it\n",
    "    activities = [(1, 4), (3, 5), (0, 6), (5, 7), (3, 8), (5, 9),\n",
    "                (6, 10), (8, 11), (8, 12), (2, 13), (12, 14)]\n",
    " \n",
    "    result = selectActivity(activities)\n",
    "    print([activities[i] for i in result])"
   ]
  }
 ],
 "metadata": {
  "kernelspec": {
   "display_name": "Python 3",
   "language": "python",
   "name": "python3"
  },
  "language_info": {
   "codemirror_mode": {
    "name": "ipython",
    "version": 3
   },
   "file_extension": ".py",
   "mimetype": "text/x-python",
   "name": "python",
   "nbconvert_exporter": "python",
   "pygments_lexer": "ipython3",
   "version": "3.8.8"
  },
  "toc": {
   "base_numbering": 1,
   "nav_menu": {},
   "number_sections": true,
   "sideBar": true,
   "skip_h1_title": false,
   "title_cell": "Table of Contents",
   "title_sidebar": "Contents",
   "toc_cell": true,
   "toc_position": {},
   "toc_section_display": true,
   "toc_window_display": true
  }
 },
 "nbformat": 4,
 "nbformat_minor": 5
}
