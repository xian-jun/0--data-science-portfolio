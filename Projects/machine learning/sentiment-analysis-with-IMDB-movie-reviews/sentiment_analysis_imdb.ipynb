{
 "cells": [
  {
   "cell_type": "markdown",
   "metadata": {
    "toc": true
   },
   "source": [
    "<h1>Table of Contents<span class=\"tocSkip\"></span></h1>\n",
    "<div class=\"toc\"><ul class=\"toc-item\"><li><span><a href=\"#Content-list\" data-toc-modified-id=\"Content-list-1\"><span class=\"toc-item-num\">1&nbsp;&nbsp;</span>Content list</a></span></li><li><span><a href=\"#import-libraries-and-data\" data-toc-modified-id=\"import-libraries-and-data-2\"><span class=\"toc-item-num\">2&nbsp;&nbsp;</span>import libraries and data</a></span></li><li><span><a href=\"#Dataset\" data-toc-modified-id=\"Dataset-3\"><span class=\"toc-item-num\">3&nbsp;&nbsp;</span>Dataset</a></span></li><li><span><a href=\"#preprocessing\" data-toc-modified-id=\"preprocessing-4\"><span class=\"toc-item-num\">4&nbsp;&nbsp;</span>preprocessing</a></span><ul class=\"toc-item\"><li><span><a href=\"#normalization\" data-toc-modified-id=\"normalization-4.1\"><span class=\"toc-item-num\">4.1&nbsp;&nbsp;</span>normalization</a></span><ul class=\"toc-item\"><li><span><a href=\"#cleaning\" data-toc-modified-id=\"cleaning-4.1.1\"><span class=\"toc-item-num\">4.1.1&nbsp;&nbsp;</span>cleaning</a></span><ul class=\"toc-item\"><li><span><a href=\"#establish-regex-to-check-if-review-is-cleaned\" data-toc-modified-id=\"establish-regex-to-check-if-review-is-cleaned-4.1.1.1\"><span class=\"toc-item-num\">4.1.1.1&nbsp;&nbsp;</span>establish regex to check if review is cleaned</a></span></li><li><span><a href=\"#remove-html-syntax\" data-toc-modified-id=\"remove-html-syntax-4.1.1.2\"><span class=\"toc-item-num\">4.1.1.2&nbsp;&nbsp;</span>remove html syntax</a></span></li><li><span><a href=\"#remove-url\" data-toc-modified-id=\"remove-url-4.1.1.3\"><span class=\"toc-item-num\">4.1.1.3&nbsp;&nbsp;</span>remove url</a></span></li><li><span><a href=\"#standardise-casing-by-applying-lower()\" data-toc-modified-id=\"standardise-casing-by-applying-lower()-4.1.1.4\"><span class=\"toc-item-num\">4.1.1.4&nbsp;&nbsp;</span>standardise casing by applying lower()</a></span></li><li><span><a href=\"#Fix-contractions\" data-toc-modified-id=\"Fix-contractions-4.1.1.5\"><span class=\"toc-item-num\">4.1.1.5&nbsp;&nbsp;</span>Fix contractions</a></span></li><li><span><a href=\"#remove-stopwords\" data-toc-modified-id=\"remove-stopwords-4.1.1.6\"><span class=\"toc-item-num\">4.1.1.6&nbsp;&nbsp;</span>remove stopwords</a></span></li><li><span><a href=\"#remove-all-symbols\" data-toc-modified-id=\"remove-all-symbols-4.1.1.7\"><span class=\"toc-item-num\">4.1.1.7&nbsp;&nbsp;</span>remove all symbols</a></span></li></ul></li><li><span><a href=\"#Tokenization-+-Lemmatization-or-stemming\" data-toc-modified-id=\"Tokenization-+-Lemmatization-or-stemming-4.1.2\"><span class=\"toc-item-num\">4.1.2&nbsp;&nbsp;</span>Tokenization + Lemmatization or stemming</a></span></li><li><span><a href=\"#export-cleaned-df\" data-toc-modified-id=\"export-cleaned-df-4.1.3\"><span class=\"toc-item-num\">4.1.3&nbsp;&nbsp;</span>export cleaned df</a></span></li></ul></li><li><span><a href=\"#Vectorization\" data-toc-modified-id=\"Vectorization-4.2\"><span class=\"toc-item-num\">4.2&nbsp;&nbsp;</span>Vectorization</a></span></li></ul></li><li><span><a href=\"#model-training-and-evaluating\" data-toc-modified-id=\"model-training-and-evaluating-5\"><span class=\"toc-item-num\">5&nbsp;&nbsp;</span>model training and evaluating</a></span></li></ul></div>"
   ]
  },
  {
   "cell_type": "markdown",
   "metadata": {
    "id": "_A5jURZDglq7"
   },
   "source": [
    "# Content list\n",
    "\n",
    "1. Import \n",
    "2. Preprocessing<br>\n",
    "  - Normalization\n",
    "    - Cleaning\n",
    "    - Tokenization\n",
    "    - Lemmatization\n",
    "  - Vectorization\n",
    "    -  Bags of words (one-hot vectorization)\n",
    "    -  TF-IDF\n",
    "3. Model training <br>\n",
    "  - SVM\n",
    "  - Logistic regression\n",
    "  - neural network\n",
    "4. Model Evaluation\n",
    "  - metric = `accuracy`\n"
   ]
  },
  {
   "cell_type": "markdown",
   "metadata": {
    "id": "aeds7nNshT60"
   },
   "source": [
    "# import libraries and data"
   ]
  },
  {
   "cell_type": "code",
   "execution_count": 6,
   "metadata": {
    "id": "WSnTfPBBgoOc"
   },
   "outputs": [],
   "source": [
    "import numpy as np\n",
    "import pandas as pd\n",
    "\n",
    "import re\n",
    "from bs4 import BeautifulSoup"
   ]
  },
  {
   "cell_type": "code",
   "execution_count": 7,
   "metadata": {
    "colab": {
     "base_uri": "https://localhost:8080/",
     "height": 0
    },
    "id": "TR72_aLJiGCP",
    "outputId": "3f56427f-bf3d-4664-9af9-98e38f8c524c"
   },
   "outputs": [
    {
     "data": {
      "text/html": [
       "<div>\n",
       "<style scoped>\n",
       "    .dataframe tbody tr th:only-of-type {\n",
       "        vertical-align: middle;\n",
       "    }\n",
       "\n",
       "    .dataframe tbody tr th {\n",
       "        vertical-align: top;\n",
       "    }\n",
       "\n",
       "    .dataframe thead th {\n",
       "        text-align: right;\n",
       "    }\n",
       "</style>\n",
       "<table border=\"1\" class=\"dataframe\">\n",
       "  <thead>\n",
       "    <tr style=\"text-align: right;\">\n",
       "      <th></th>\n",
       "      <th>review</th>\n",
       "      <th>sentiment</th>\n",
       "    </tr>\n",
       "  </thead>\n",
       "  <tbody>\n",
       "    <tr>\n",
       "      <th>0</th>\n",
       "      <td>One of the other reviewers has mentioned that ...</td>\n",
       "      <td>positive</td>\n",
       "    </tr>\n",
       "    <tr>\n",
       "      <th>1</th>\n",
       "      <td>A wonderful little production. &lt;br /&gt;&lt;br /&gt;The...</td>\n",
       "      <td>positive</td>\n",
       "    </tr>\n",
       "    <tr>\n",
       "      <th>2</th>\n",
       "      <td>I thought this was a wonderful way to spend ti...</td>\n",
       "      <td>positive</td>\n",
       "    </tr>\n",
       "    <tr>\n",
       "      <th>3</th>\n",
       "      <td>Basically there's a family where a little boy ...</td>\n",
       "      <td>negative</td>\n",
       "    </tr>\n",
       "    <tr>\n",
       "      <th>4</th>\n",
       "      <td>Petter Mattei's \"Love in the Time of Money\" is...</td>\n",
       "      <td>positive</td>\n",
       "    </tr>\n",
       "  </tbody>\n",
       "</table>\n",
       "</div>"
      ],
      "text/plain": [
       "                                              review sentiment\n",
       "0  One of the other reviewers has mentioned that ...  positive\n",
       "1  A wonderful little production. <br /><br />The...  positive\n",
       "2  I thought this was a wonderful way to spend ti...  positive\n",
       "3  Basically there's a family where a little boy ...  negative\n",
       "4  Petter Mattei's \"Love in the Time of Money\" is...  positive"
      ]
     },
     "execution_count": 7,
     "metadata": {},
     "output_type": "execute_result"
    }
   ],
   "source": [
    "url = 'https://drive.google.com/file/d/1Cqj5d_LHaV4MAdqDdHHk_7uWopvHNzMP/view?usp=sharing'\n",
    "path = 'https://drive.google.com/uc?export=download&id='+url.split('/')[-2]\n",
    "\n",
    "df = pd.read_csv(path)\n",
    "df.head()"
   ]
  },
  {
   "cell_type": "markdown",
   "metadata": {
    "id": "ZFU_Dp8CjxLV"
   },
   "source": [
    "# Dataset"
   ]
  },
  {
   "cell_type": "code",
   "execution_count": 8,
   "metadata": {
    "colab": {
     "base_uri": "https://localhost:8080/"
    },
    "id": "rgwbNq4rjzYV",
    "outputId": "790a7f59-8023-4acb-9a00-6750ebf79500"
   },
   "outputs": [
    {
     "name": "stdout",
     "output_type": "stream",
     "text": [
      "<class 'pandas.core.frame.DataFrame'>\n",
      "RangeIndex: 50000 entries, 0 to 49999\n",
      "Data columns (total 2 columns):\n",
      " #   Column     Non-Null Count  Dtype \n",
      "---  ------     --------------  ----- \n",
      " 0   review     50000 non-null  object\n",
      " 1   sentiment  50000 non-null  object\n",
      "dtypes: object(2)\n",
      "memory usage: 781.4+ KB\n"
     ]
    }
   ],
   "source": [
    "# Check the dataset information\n",
    "df.info() "
   ]
  },
  {
   "cell_type": "markdown",
   "metadata": {
    "id": "Cvksw7pVNTBc"
   },
   "source": [
    "Dataset consists of 50000 observations of two features. "
   ]
  },
  {
   "cell_type": "code",
   "execution_count": 9,
   "metadata": {
    "colab": {
     "base_uri": "https://localhost:8080/"
    },
    "id": "DXJEQLHevoeQ",
    "outputId": "44cd1ce2-b769-4658-963a-2a1dc05ebee3"
   },
   "outputs": [
    {
     "name": "stdout",
     "output_type": "stream",
     "text": [
      "{'positive': 25000, 'negative': 25000}\n"
     ]
    }
   ],
   "source": [
    "# View the class distribution of data labels\n",
    "from collections import Counter \n",
    "print (dict(Counter(df['sentiment'])))  # We then examined the data structure of the sentiment column and found that it consisted of two values, each of 25,000 rows."
   ]
  },
  {
   "cell_type": "markdown",
   "metadata": {
    "id": "kJdY7_D0NoFl"
   },
   "source": [
    "Half of the dataset are labelled as positive, while the other half negative. Class distribution is balanced. "
   ]
  },
  {
   "cell_type": "markdown",
   "metadata": {
    "id": "eCvw-G72jPH2"
   },
   "source": [
    "# preprocessing"
   ]
  },
  {
   "cell_type": "markdown",
   "metadata": {
    "id": "HOGHjD8jsDvP"
   },
   "source": [
    "## normalization\n"
   ]
  },
  {
   "cell_type": "markdown",
   "metadata": {
    "id": "YP6yKAjSyBWw"
   },
   "source": [
    "1. cleaning punctuations, syntaxes, URL data, Emojis, wtopwords. \n",
    "2. tokenization + lemmatization\n"
   ]
  },
  {
   "cell_type": "markdown",
   "metadata": {
    "id": "gRsJgORpHRmz"
   },
   "source": [
    "### cleaning"
   ]
  },
  {
   "cell_type": "markdown",
   "metadata": {
    "id": "j30nvffu6w9S"
   },
   "source": [
    "1. remove html syntax\n",
    "2. remove url\n",
    "3. standardise letter casing\n",
    "4. fix contractions like I'm, they're,... (optional as they will be removed as part of stopwords as well)\n",
    "5. remove stopwords\n",
    "6. remove all non-words non-digit symbols. "
   ]
  },
  {
   "cell_type": "code",
   "execution_count": 10,
   "metadata": {
    "id": "gbUsWqRtxWLI"
   },
   "outputs": [],
   "source": [
    "# create a cleaned_df copy to conduct all transformation to remain the original dataframe\n",
    "cleaned_df = df.copy()"
   ]
  },
  {
   "cell_type": "markdown",
   "metadata": {
    "id": "YoLXgyd3qKTD"
   },
   "source": [
    "#### establish regex to check if review is cleaned"
   ]
  },
  {
   "cell_type": "code",
   "execution_count": 11,
   "metadata": {
    "id": "2sw1tfXmV0t9"
   },
   "outputs": [],
   "source": [
    "# define function to check whether they consist of unwanted stuffs with regex\n",
    "def search_review(target_str, pattern):\n",
    "  cpat = re.compile(pattern)\n",
    "  if cpat.search(target_str):\n",
    "    return True\n",
    "  else:\n",
    "    return False\n",
    "\n",
    "def check_if_contain(data, x, pattern, contain=True):\n",
    "  # avoiding 'contains_{x}' columns accumulating, set up temp_df\n",
    "  temp_df = data.copy()\n",
    "  temp_df[f'contains_{x}'] = temp_df.apply(lambda x: search_review(x['review'], pattern), axis=1)\n",
    "  return temp_df[temp_df[f'contains_{x}'] == contain]"
   ]
  },
  {
   "attachments": {},
   "cell_type": "markdown",
   "metadata": {
    "id": "aL8QMGdnqV9V"
   },
   "source": [
    "#### 1. remove html syntax"
   ]
  },
  {
   "cell_type": "code",
   "execution_count": 12,
   "metadata": {
    "colab": {
     "base_uri": "https://localhost:8080/",
     "height": 269
    },
    "id": "zPXROkZdTLek",
    "outputId": "3f62cf32-63ae-496c-9176-6736e630194e"
   },
   "outputs": [
    {
     "data": {
      "text/html": [
       "<div>\n",
       "<style scoped>\n",
       "    .dataframe tbody tr th:only-of-type {\n",
       "        vertical-align: middle;\n",
       "    }\n",
       "\n",
       "    .dataframe tbody tr th {\n",
       "        vertical-align: top;\n",
       "    }\n",
       "\n",
       "    .dataframe thead th {\n",
       "        text-align: right;\n",
       "    }\n",
       "</style>\n",
       "<table border=\"1\" class=\"dataframe\">\n",
       "  <thead>\n",
       "    <tr style=\"text-align: right;\">\n",
       "      <th></th>\n",
       "      <th>review</th>\n",
       "      <th>sentiment</th>\n",
       "      <th>contains_symbol</th>\n",
       "    </tr>\n",
       "  </thead>\n",
       "  <tbody>\n",
       "    <tr>\n",
       "      <th>1513</th>\n",
       "      <td>This all-but-ignored masterpiece is about the ...</td>\n",
       "      <td>positive</td>\n",
       "      <td>True</td>\n",
       "    </tr>\n",
       "    <tr>\n",
       "      <th>13736</th>\n",
       "      <td>&gt;&gt;&gt; Great News there is a BBC DVD release sche...</td>\n",
       "      <td>positive</td>\n",
       "      <td>True</td>\n",
       "    </tr>\n",
       "    <tr>\n",
       "      <th>22164</th>\n",
       "      <td>In Truffaut book-length interview with Hitchco...</td>\n",
       "      <td>positive</td>\n",
       "      <td>True</td>\n",
       "    </tr>\n",
       "    <tr>\n",
       "      <th>27107</th>\n",
       "      <td>One minute into THE UNTOLD and it`s already ri...</td>\n",
       "      <td>negative</td>\n",
       "      <td>True</td>\n",
       "    </tr>\n",
       "    <tr>\n",
       "      <th>33891</th>\n",
       "      <td>and quite frankly that just sums it up.It is a...</td>\n",
       "      <td>positive</td>\n",
       "      <td>True</td>\n",
       "    </tr>\n",
       "    <tr>\n",
       "      <th>42217</th>\n",
       "      <td>Well, I guess I'm emotionally attached to this...</td>\n",
       "      <td>positive</td>\n",
       "      <td>True</td>\n",
       "    </tr>\n",
       "    <tr>\n",
       "      <th>48617</th>\n",
       "      <td>&lt;-----Minor Spoilers!-----&gt;A woman gets pregna...</td>\n",
       "      <td>positive</td>\n",
       "      <td>True</td>\n",
       "    </tr>\n",
       "  </tbody>\n",
       "</table>\n",
       "</div>"
      ],
      "text/plain": [
       "                                                  review sentiment  \\\n",
       "1513   This all-but-ignored masterpiece is about the ...  positive   \n",
       "13736  >>> Great News there is a BBC DVD release sche...  positive   \n",
       "22164  In Truffaut book-length interview with Hitchco...  positive   \n",
       "27107  One minute into THE UNTOLD and it`s already ri...  negative   \n",
       "33891  and quite frankly that just sums it up.It is a...  positive   \n",
       "42217  Well, I guess I'm emotionally attached to this...  positive   \n",
       "48617  <-----Minor Spoilers!----->A woman gets pregna...  positive   \n",
       "\n",
       "       contains_symbol  \n",
       "1513              True  \n",
       "13736             True  \n",
       "22164             True  \n",
       "27107             True  \n",
       "33891             True  \n",
       "42217             True  \n",
       "48617             True  "
      ]
     },
     "execution_count": 12,
     "metadata": {},
     "output_type": "execute_result"
    }
   ],
   "source": [
    "# clean html\n",
    "cleaned_df.review = cleaned_df.review.apply(lambda string: BeautifulSoup(string, 'html.parser').get_text())\n",
    "\n",
    "html_regex = r'<.*?>'\n",
    "check_if_contain(cleaned_df, 'symbol', html_regex, True)"
   ]
  },
  {
   "attachments": {},
   "cell_type": "markdown",
   "metadata": {
    "id": "LJXXyadjqr29"
   },
   "source": [
    "#### 2. remove url"
   ]
  },
  {
   "cell_type": "code",
   "execution_count": 13,
   "metadata": {
    "colab": {
     "base_uri": "https://localhost:8080/",
     "height": 49
    },
    "id": "pWGXVOORgFWe",
    "outputId": "3b5b3ea0-ed9c-4a9c-d3fd-62686951d7ed"
   },
   "outputs": [
    {
     "data": {
      "text/html": [
       "<div>\n",
       "<style scoped>\n",
       "    .dataframe tbody tr th:only-of-type {\n",
       "        vertical-align: middle;\n",
       "    }\n",
       "\n",
       "    .dataframe tbody tr th {\n",
       "        vertical-align: top;\n",
       "    }\n",
       "\n",
       "    .dataframe thead th {\n",
       "        text-align: right;\n",
       "    }\n",
       "</style>\n",
       "<table border=\"1\" class=\"dataframe\">\n",
       "  <thead>\n",
       "    <tr style=\"text-align: right;\">\n",
       "      <th></th>\n",
       "      <th>review</th>\n",
       "      <th>sentiment</th>\n",
       "      <th>contains_url</th>\n",
       "    </tr>\n",
       "  </thead>\n",
       "  <tbody>\n",
       "  </tbody>\n",
       "</table>\n",
       "</div>"
      ],
      "text/plain": [
       "Empty DataFrame\n",
       "Columns: [review, sentiment, contains_url]\n",
       "Index: []"
      ]
     },
     "execution_count": 13,
     "metadata": {},
     "output_type": "execute_result"
    }
   ],
   "source": [
    "# clean url and check if there's still url\n",
    "cleaned_df.review = cleaned_df.review.str.replace(r\"https://\\S+|www\\.\\S+\", '', regex = True)\n",
    "\n",
    "url_regex = r\"https://\\S+|www\\.\\S+\"\n",
    "check_if_contain(cleaned_df, 'url', url_regex, True)"
   ]
  },
  {
   "attachments": {},
   "cell_type": "markdown",
   "metadata": {
    "id": "vxXNdOm5qwLM"
   },
   "source": [
    "#### 3. standardise casing by applying lower()"
   ]
  },
  {
   "cell_type": "code",
   "execution_count": 14,
   "metadata": {
    "colab": {
     "base_uri": "https://localhost:8080/",
     "height": 49
    },
    "id": "cYO7w0bbX2iS",
    "outputId": "d35efd48-e8d1-43bb-c1fe-21de3ff01337"
   },
   "outputs": [
    {
     "data": {
      "text/html": [
       "<div>\n",
       "<style scoped>\n",
       "    .dataframe tbody tr th:only-of-type {\n",
       "        vertical-align: middle;\n",
       "    }\n",
       "\n",
       "    .dataframe tbody tr th {\n",
       "        vertical-align: top;\n",
       "    }\n",
       "\n",
       "    .dataframe thead th {\n",
       "        text-align: right;\n",
       "    }\n",
       "</style>\n",
       "<table border=\"1\" class=\"dataframe\">\n",
       "  <thead>\n",
       "    <tr style=\"text-align: right;\">\n",
       "      <th></th>\n",
       "      <th>review</th>\n",
       "      <th>sentiment</th>\n",
       "      <th>contains_upper</th>\n",
       "    </tr>\n",
       "  </thead>\n",
       "  <tbody>\n",
       "  </tbody>\n",
       "</table>\n",
       "</div>"
      ],
      "text/plain": [
       "Empty DataFrame\n",
       "Columns: [review, sentiment, contains_upper]\n",
       "Index: []"
      ]
     },
     "execution_count": 14,
     "metadata": {},
     "output_type": "execute_result"
    }
   ],
   "source": [
    "# standardise casing to lower case and check\n",
    "cleaned_df.review = cleaned_df.review.apply(lambda x: x.lower())\n",
    "\n",
    "upper_case_regex = r'[A-Z]'\n",
    "check_if_contain(cleaned_df, 'upper', upper_case_regex, True)"
   ]
  },
  {
   "attachments": {},
   "cell_type": "markdown",
   "metadata": {
    "id": "bAgQD-0AXN-7"
   },
   "source": [
    "#### 4. Fix contractions\n",
    "\n",
    "actually not required as they will be removed along with stopwords"
   ]
  },
  {
   "cell_type": "code",
   "execution_count": 15,
   "metadata": {
    "id": "yfwmjs8Zdwd0"
   },
   "outputs": [],
   "source": [
    "# or make use of easier regex\n",
    "# code source from https://gist.github.com/yamanahlawat/4443c6e9e65e74829dbb6b47dd81764a\n",
    "\n",
    "replacement_patterns = [\n",
    "  (r'won\\'t', 'will not'),\n",
    "  (r'can\\'t', 'cannot'),\n",
    "  (r'i\\'m', 'i am'),\n",
    "  (r'ain\\'t', 'is not'),\n",
    "  (r'(\\w+)\\'ll', '\\g<1> will'),\n",
    "  (r'(\\w+)n\\'t', '\\g<1> not'),\n",
    "  (r'(\\w+)\\'ve', '\\g<1> have'),\n",
    "  (r'(\\w+)\\'s', '\\g<1> is'),\n",
    "  (r'(\\w+)\\'re', '\\g<1> are'),\n",
    "  (r'(\\w+)\\'d', '\\g<1> would')\n",
    "]\n",
    "\n",
    "\n",
    "class RegexpReplacer(object):\n",
    "  def __init__(self, patterns=replacement_patterns):\n",
    "    self.patterns = [(re.compile(regex), repl) for (regex, repl) in patterns]\n",
    "    # regex applies to regex pattern to be replaced\n",
    "    # repl refers to the replacements\n",
    "    \n",
    "  def replace(self, text):\n",
    "    s = text\n",
    "    for (pattern, repl) in self.patterns:\n",
    "      s = re.sub(pattern, repl, s)\n",
    "    return s"
   ]
  },
  {
   "cell_type": "code",
   "execution_count": 16,
   "metadata": {
    "id": "PHsHt3esd6Gb"
   },
   "outputs": [],
   "source": [
    "replacer = RegexpReplacer()\n",
    "cleaned_df.review = cleaned_df.review.apply(lambda x: replacer.replace(x))"
   ]
  },
  {
   "cell_type": "code",
   "execution_count": 17,
   "metadata": {
    "colab": {
     "base_uri": "https://localhost:8080/",
     "height": 49
    },
    "id": "VVQk0EifXjHx",
    "outputId": "7b89323b-9c19-420e-caa4-339ed16a670f"
   },
   "outputs": [
    {
     "data": {
      "text/html": [
       "<div>\n",
       "<style scoped>\n",
       "    .dataframe tbody tr th:only-of-type {\n",
       "        vertical-align: middle;\n",
       "    }\n",
       "\n",
       "    .dataframe tbody tr th {\n",
       "        vertical-align: top;\n",
       "    }\n",
       "\n",
       "    .dataframe thead th {\n",
       "        text-align: right;\n",
       "    }\n",
       "</style>\n",
       "<table border=\"1\" class=\"dataframe\">\n",
       "  <thead>\n",
       "    <tr style=\"text-align: right;\">\n",
       "      <th></th>\n",
       "      <th>review</th>\n",
       "      <th>sentiment</th>\n",
       "      <th>contains_contraction</th>\n",
       "    </tr>\n",
       "  </thead>\n",
       "  <tbody>\n",
       "  </tbody>\n",
       "</table>\n",
       "</div>"
      ],
      "text/plain": [
       "Empty DataFrame\n",
       "Columns: [review, sentiment, contains_contraction]\n",
       "Index: []"
      ]
     },
     "execution_count": 17,
     "metadata": {},
     "output_type": "execute_result"
    }
   ],
   "source": [
    "contraction_regex = r\"(?!\\\")\\[A-Za-z]+('[A-Za-z]*)\\b\"  \n",
    "# \\b matches word boundary, ensuring regex matches complete word not only part of it\n",
    "# [A-Za-z]+ matches first part of the word\n",
    "# ('[A-Za-z]*) matches the contraction part\n",
    "# (?!\\\") checks that the it does not detect a quotation mark (\") at the beginning and take as contraction\n",
    "\n",
    "check_if_contain(cleaned_df, \"contraction\", contraction_regex, True)"
   ]
  },
  {
   "attachments": {},
   "cell_type": "markdown",
   "metadata": {
    "id": "-X21vr-Ikypl"
   },
   "source": [
    "#### 5. remove stopwords\n",
    "\n",
    "reference: https://stackabuse.com/removing-stop-words-from-strings-in-python/#usingpythonsgensimlibrary"
   ]
  },
  {
   "cell_type": "code",
   "execution_count": 18,
   "metadata": {
    "colab": {
     "base_uri": "https://localhost:8080/"
    },
    "id": "c33Bqojfl4d0",
    "outputId": "b1ba021e-71ba-4d51-8270-407340f78dc1"
   },
   "outputs": [
    {
     "name": "stdout",
     "output_type": "stream",
     "text": [
      "Requirement already satisfied: nltk in c:\\users\\admin\\anaconda3\\lib\\site-packages (3.6.1)\n",
      "Requirement already satisfied: joblib in c:\\users\\admin\\anaconda3\\lib\\site-packages (from nltk) (1.0.1)\n",
      "Requirement already satisfied: regex in c:\\users\\admin\\anaconda3\\lib\\site-packages (from nltk) (2021.4.4)\n",
      "Requirement already satisfied: tqdm in c:\\users\\admin\\anaconda3\\lib\\site-packages (from nltk) (4.59.0)\n",
      "Requirement already satisfied: click in c:\\users\\admin\\anaconda3\\lib\\site-packages (from nltk) (7.1.2)\n"
     ]
    }
   ],
   "source": [
    "! pip install nltk"
   ]
  },
  {
   "cell_type": "code",
   "execution_count": 19,
   "metadata": {
    "id": "uyRzdZEDk2DU"
   },
   "outputs": [],
   "source": [
    "import nltk\n",
    "from nltk.corpus import stopwords\n",
    "from nltk.tokenize import word_tokenize"
   ]
  },
  {
   "cell_type": "code",
   "execution_count": 20,
   "metadata": {
    "colab": {
     "base_uri": "https://localhost:8080/"
    },
    "id": "_MGdhjelm3bU",
    "outputId": "64328b83-6ce0-4f47-89f6-26d43e1436b5"
   },
   "outputs": [
    {
     "name": "stderr",
     "output_type": "stream",
     "text": [
      "[nltk_data] Downloading package stopwords to\n",
      "[nltk_data]     C:\\Users\\Admin\\AppData\\Roaming\\nltk_data...\n",
      "[nltk_data]   Package stopwords is already up-to-date!\n",
      "[nltk_data] Downloading package punkt to\n",
      "[nltk_data]     C:\\Users\\Admin\\AppData\\Roaming\\nltk_data...\n",
      "[nltk_data]   Package punkt is already up-to-date!\n"
     ]
    },
    {
     "data": {
      "text/plain": [
       "True"
      ]
     },
     "execution_count": 20,
     "metadata": {},
     "output_type": "execute_result"
    }
   ],
   "source": [
    "nltk.download('stopwords')\n",
    "nltk.download('punkt')"
   ]
  },
  {
   "cell_type": "code",
   "execution_count": 21,
   "metadata": {
    "colab": {
     "base_uri": "https://localhost:8080/"
    },
    "id": "Oh-npCTnnqdd",
    "outputId": "5b1116ac-e674-420c-f91b-b9e588d7b7b9"
   },
   "outputs": [
    {
     "name": "stdout",
     "output_type": "stream",
     "text": [
      "['i', 'me', 'my', 'myself', 'we', 'our', 'ours', 'ourselves', 'you', \"you're\", \"you've\", \"you'll\", \"you'd\", 'your', 'yours', 'yourself', 'yourselves', 'he', 'him', 'his', 'himself', 'she', \"she's\", 'her', 'hers', 'herself', 'it', \"it's\", 'its', 'itself', 'they', 'them', 'their', 'theirs', 'themselves', 'what', 'which', 'who', 'whom', 'this', 'that', \"that'll\", 'these', 'those', 'am', 'is', 'are', 'was', 'were', 'be', 'been', 'being', 'have', 'has', 'had', 'having', 'do', 'does', 'did', 'doing', 'a', 'an', 'the', 'and', 'but', 'if', 'or', 'because', 'as', 'until', 'while', 'of', 'at', 'by', 'for', 'with', 'about', 'against', 'between', 'into', 'through', 'during', 'before', 'after', 'above', 'below', 'to', 'from', 'up', 'down', 'in', 'out', 'on', 'off', 'over', 'under', 'again', 'further', 'then', 'once', 'here', 'there', 'when', 'where', 'why', 'how', 'all', 'any', 'both', 'each', 'few', 'more', 'most', 'other', 'some', 'such', 'no', 'nor', 'not', 'only', 'own', 'same', 'so', 'than', 'too', 'very', 's', 't', 'can', 'will', 'just', 'don', \"don't\", 'should', \"should've\", 'now', 'd', 'll', 'm', 'o', 're', 've', 'y', 'ain', 'aren', \"aren't\", 'couldn', \"couldn't\", 'didn', \"didn't\", 'doesn', \"doesn't\", 'hadn', \"hadn't\", 'hasn', \"hasn't\", 'haven', \"haven't\", 'isn', \"isn't\", 'ma', 'mightn', \"mightn't\", 'mustn', \"mustn't\", 'needn', \"needn't\", 'shan', \"shan't\", 'shouldn', \"shouldn't\", 'wasn', \"wasn't\", 'weren', \"weren't\", 'won', \"won't\", 'wouldn', \"wouldn't\"]\n"
     ]
    }
   ],
   "source": [
    "stopwords = nltk.corpus.stopwords.words('english')\n",
    "print(stopwords)\n",
    "# we can add or remove stopwords to the list"
   ]
  },
  {
   "cell_type": "code",
   "execution_count": 22,
   "metadata": {
    "id": "CIPjcsffnO1c"
   },
   "outputs": [],
   "source": [
    "# define a function to remove stopwords from a string\n",
    "# not compulsory, it can be done by vectorization\n",
    "def remove_stopwords(s):\n",
    "    # split the string into a list of words\n",
    "    words = word_tokenize(s)\n",
    "    \n",
    "    # remove stopwords from the list of words\n",
    "    filtered_words = [w for w in words if w not in stopwords]\n",
    "    \n",
    "    # join the filtered words back into a string\n",
    "    return \" \".join(filtered_words)"
   ]
  },
  {
   "cell_type": "code",
   "execution_count": 23,
   "metadata": {
    "colab": {
     "base_uri": "https://localhost:8080/",
     "height": 105
    },
    "id": "KmwLjSCLoDLd",
    "outputId": "6e194883-7b24-44f5-f868-3ebd271a8051"
   },
   "outputs": [
    {
     "data": {
      "text/plain": [
       "'one reviewers mentioned watching 1 oz episode hooked . right , exactly happened me.the first thing struck oz brutality unflinching scenes violence , set right word go . trust , show faint hearted timid . show pulls punches regards drugs , sex violence . hardcore , classic use word.it called oz nickname given oswald maximum security state penitentary . focuses mainly emerald city , experimental section prison cells glass fronts face inwards , privacy high agenda . em city home many .. aryans , muslims , gangstas , latinos , christians , italians , irish .... scuffles , death stares , dodgy dealings shady agreements never far away.i would say main appeal show due fact goes shows would dare . forget pretty pictures painted mainstream audiences , forget charm , forget romance ... oz mess around . first episode ever saw struck nasty surreal , could say ready , watched , developed taste oz , got accustomed high levels graphic violence . violence , injustice ( crooked guards sold nickel , inmates kill order get away , well mannered , middle class inmates turned prison bitches due lack street skills prison experience ) watching oz , may become comfortable uncomfortable viewing .... thats get touch darker side .'"
      ]
     },
     "execution_count": 23,
     "metadata": {},
     "output_type": "execute_result"
    }
   ],
   "source": [
    "cleaned_df.review = cleaned_df.review.apply(remove_stopwords)\n",
    "cleaned_df.review[0]"
   ]
  },
  {
   "attachments": {},
   "cell_type": "markdown",
   "metadata": {
    "id": "XiTULpz6kPKc"
   },
   "source": [
    "#### 6. remove all symbols"
   ]
  },
  {
   "cell_type": "code",
   "execution_count": 24,
   "metadata": {
    "id": "g95TSjgLkbQM"
   },
   "outputs": [],
   "source": [
    "# clean all that are not words\n",
    "symbol_regex = r'[^a-z|\\s]'\n",
    "cleaned_df.review = cleaned_df.review.str.replace(symbol_regex, ' ', regex = True)"
   ]
  },
  {
   "cell_type": "code",
   "execution_count": 25,
   "metadata": {
    "colab": {
     "base_uri": "https://localhost:8080/",
     "height": 105
    },
    "id": "OR5GTl_Bkorl",
    "outputId": "295be879-5d65-4fce-d70e-9072cd9a3a4c"
   },
   "outputs": [
    {
     "data": {
      "text/plain": [
       "'one reviewers mentioned watching   oz episode hooked   right   exactly happened me the first thing struck oz brutality unflinching scenes violence   set right word go   trust   show faint hearted timid   show pulls punches regards drugs   sex violence   hardcore   classic use word it called oz nickname given oswald maximum security state penitentary   focuses mainly emerald city   experimental section prison cells glass fronts face inwards   privacy high agenda   em city home many    aryans   muslims   gangstas   latinos   christians   italians   irish      scuffles   death stares   dodgy dealings shady agreements never far away i would say main appeal show due fact goes shows would dare   forget pretty pictures painted mainstream audiences   forget charm   forget romance     oz mess around   first episode ever saw struck nasty surreal   could say ready   watched   developed taste oz   got accustomed high levels graphic violence   violence   injustice   crooked guards sold nickel   inmates kill order get away   well mannered   middle class inmates turned prison bitches due lack street skills prison experience   watching oz   may become comfortable uncomfortable viewing      thats get touch darker side  '"
      ]
     },
     "execution_count": 25,
     "metadata": {},
     "output_type": "execute_result"
    }
   ],
   "source": [
    "cleaned_df.review[0]"
   ]
  },
  {
   "attachments": {},
   "cell_type": "markdown",
   "metadata": {
    "id": "OiLkk_SZtX3H"
   },
   "source": [
    "### 7. Tokenization + Lemmatization or stemming"
   ]
  },
  {
   "cell_type": "markdown",
   "metadata": {
    "id": "LbZWqKFb33Jh"
   },
   "source": [
    "**Why tokenize first?**<br>\n",
    "Even though the WordNetLemmatizer class can lemmatize long sentences, tokenization is still typically necessary before lemmatization because it helps to split the sentence into individual words or tokens, which can then be lemmatized more accurately and efficiently.\n",
    "<br>\n",
    "<br>\n",
    "\n",
    "**Lemmatization vs Stemming**<br>\n",
    "Lemmatization has higher accuracy as it takes context into consideration, compared with stemming. "
   ]
  },
  {
   "cell_type": "code",
   "execution_count": 26,
   "metadata": {
    "colab": {
     "base_uri": "https://localhost:8080/"
    },
    "id": "9EKMD6lqtfsw",
    "outputId": "387d8c44-b97b-4188-b604-025608930d8a"
   },
   "outputs": [
    {
     "name": "stderr",
     "output_type": "stream",
     "text": [
      "[nltk_data] Downloading package wordnet to\n",
      "[nltk_data]     C:\\Users\\Admin\\AppData\\Roaming\\nltk_data...\n",
      "[nltk_data]   Package wordnet is already up-to-date!\n",
      "[nltk_data] Downloading package omw-1.4 to\n",
      "[nltk_data]     C:\\Users\\Admin\\AppData\\Roaming\\nltk_data...\n",
      "[nltk_data]   Package omw-1.4 is already up-to-date!\n"
     ]
    },
    {
     "data": {
      "text/plain": [
       "True"
      ]
     },
     "execution_count": 26,
     "metadata": {},
     "output_type": "execute_result"
    }
   ],
   "source": [
    "#Lemmatize the dataset\n",
    "from nltk.stem import WordNetLemmatizer\n",
    "nltk.download('wordnet')\n",
    "nltk.download('omw-1.4')"
   ]
  },
  {
   "cell_type": "code",
   "execution_count": 27,
   "metadata": {
    "id": "ymZ1BCyj0y5X"
   },
   "outputs": [],
   "source": [
    "def lemmatize_string(s):\n",
    "  lemmatizer = WordNetLemmatizer()\n",
    "  # split the string into a list of words (tokenization)\n",
    "  words = word_tokenize(s)\n",
    "  \n",
    "  # lemmatize each word in the list\n",
    "  lemmas = [lemmatizer.lemmatize(w) for w in words]\n",
    "  \n",
    "  # join the lemmas back into a string\n",
    "  return \" \".join(lemmas)"
   ]
  },
  {
   "cell_type": "code",
   "execution_count": 28,
   "metadata": {
    "id": "zGmQTA6O01av"
   },
   "outputs": [],
   "source": [
    "cleaned_df['lemma_review']=cleaned_df['review'].apply(lambda z: lemmatize_string(z))"
   ]
  },
  {
   "cell_type": "code",
   "execution_count": 29,
   "metadata": {
    "id": "fC2zriPw3eP5"
   },
   "outputs": [
    {
     "data": {
      "text/plain": [
       "'one reviewer mentioned watching oz episode hooked right exactly happened me the first thing struck oz brutality unflinching scene violence set right word go trust show faint hearted timid show pull punch regard drug sex violence hardcore classic use word it called oz nickname given oswald maximum security state penitentary focus mainly emerald city experimental section prison cell glass front face inwards privacy high agenda em city home many aryan muslim gangsta latino christian italian irish scuffle death stare dodgy dealing shady agreement never far away i would say main appeal show due fact go show would dare forget pretty picture painted mainstream audience forget charm forget romance oz mess around first episode ever saw struck nasty surreal could say ready watched developed taste oz got accustomed high level graphic violence violence injustice crooked guard sold nickel inmate kill order get away well mannered middle class inmate turned prison bitch due lack street skill prison experience watching oz may become comfortable uncomfortable viewing thats get touch darker side'"
      ]
     },
     "execution_count": 29,
     "metadata": {},
     "output_type": "execute_result"
    }
   ],
   "source": [
    "cleaned_df.lemma_review[0]"
   ]
  },
  {
   "cell_type": "code",
   "execution_count": 30,
   "metadata": {
    "id": "I_mDFZV6m07e"
   },
   "outputs": [
    {
     "data": {
      "text/plain": [
       "'one reviewers mentioned watching   oz episode hooked   right   exactly happened me the first thing struck oz brutality unflinching scenes violence   set right word go   trust   show faint hearted timid   show pulls punches regards drugs   sex violence   hardcore   classic use word it called oz nickname given oswald maximum security state penitentary   focuses mainly emerald city   experimental section prison cells glass fronts face inwards   privacy high agenda   em city home many    aryans   muslims   gangstas   latinos   christians   italians   irish      scuffles   death stares   dodgy dealings shady agreements never far away i would say main appeal show due fact goes shows would dare   forget pretty pictures painted mainstream audiences   forget charm   forget romance     oz mess around   first episode ever saw struck nasty surreal   could say ready   watched   developed taste oz   got accustomed high levels graphic violence   violence   injustice   crooked guards sold nickel   inmates kill order get away   well mannered   middle class inmates turned prison bitches due lack street skills prison experience   watching oz   may become comfortable uncomfortable viewing      thats get touch darker side  '"
      ]
     },
     "execution_count": 30,
     "metadata": {},
     "output_type": "execute_result"
    }
   ],
   "source": [
    "cleaned_df.review[0]"
   ]
  },
  {
   "cell_type": "markdown",
   "metadata": {
    "id": "FQbn2UF0rm_O"
   },
   "source": [
    "### export cleaned df"
   ]
  },
  {
   "cell_type": "code",
   "execution_count": 31,
   "metadata": {
    "id": "wbFH400xo4md"
   },
   "outputs": [],
   "source": [
    "# cleaned_df.to_csv('cleaned_df.csv')"
   ]
  },
  {
   "cell_type": "markdown",
   "metadata": {
    "id": "M4l0sM0O5faR"
   },
   "source": [
    "## Vectorization"
   ]
  },
  {
   "attachments": {},
   "cell_type": "markdown",
   "metadata": {
    "id": "gmsVV0p05lGZ"
   },
   "source": [
    "Preprocessing before  training models\n",
    "use `cleaned_df` to continue preprocessing\n",
    "<br>\n",
    "\n",
    "In this section,`CountVectorizer()` (bags of words) and `TfidfVectorizer()` (TF-IDF) are both explored, but only TF-IDF are used for model training due to its ability to factor in context.  "
   ]
  },
  {
   "cell_type": "markdown",
   "metadata": {
    "id": "gR5_wVKlmRSU"
   },
   "source": [
    "Vectorisation is an important step in converting human language into data that can be processed by computers."
   ]
  },
  {
   "cell_type": "code",
   "execution_count": 32,
   "metadata": {
    "id": "AVfrNVifpF2_"
   },
   "outputs": [],
   "source": [
    "# split train/test dataset\n",
    "# https://scikit-learn.org/stable/modules/generated/sklearn.model_selection.train_test_split.html\n",
    "from sklearn.model_selection import train_test_split\n",
    "\n",
    "# train/test 7/3a\n",
    "X = cleaned_df.lemma_review\n",
    "y = cleaned_df.sentiment\n",
    "\n",
    "X_train, X_test, y_train, y_test = train_test_split(X, y, test_size=0.3, random_state=22)"
   ]
  },
  {
   "cell_type": "code",
   "execution_count": null,
   "metadata": {},
   "outputs": [],
   "source": [
    "# set up nltk stopwords for english\n",
    "import nltk\n",
    "from nltk.corpus import stopwords\n",
    "from nltk.tokenize import word_tokenize\n",
    "\n",
    "nltk.download('stopwords')\n",
    "nltk.download('punkt')\n",
    "\n",
    "stopwords = nltk.corpus.stopwords.words('english')"
   ]
  },
  {
   "cell_type": "code",
   "execution_count": 33,
   "metadata": {
    "id": "U-9ik5NHn_78"
   },
   "outputs": [],
   "source": [
    "# sklearn CountVectorizer\n",
    "# https://scikit-learn.org/stable/modules/generated/sklearn.feature_extraction.text.CountVectorizer.html\n",
    "# https://www.geeksforgeeks.org/using-countvectorizer-to-extracting-features-from-text/\n",
    "from sklearn.feature_extraction.text import CountVectorizer\n",
    "\n",
    "# define the tokenizer to use with the CountVectorizer\n",
    "tokenizer = CountVectorizer().build_tokenizer()\n",
    "\n",
    "# tokenize the stop words the way that CountVectorizer would to prevent error\n",
    "# stopwords are the nltk stop words used previously\n",
    "stop_words_tokens = tokenizer(\" \".join(stopwords))\n",
    "\n",
    "# max_features cannot be too large or not specified, otherwise will be OOM ......\n",
    "c_vect = CountVectorizer(max_df = 0.8, min_df = 3, tokenizer=word_tokenize, stop_words=frozenset(stop_words_tokens), max_features=5000)"
   ]
  },
  {
   "cell_type": "code",
   "execution_count": 34,
   "metadata": {
    "colab": {
     "base_uri": "https://localhost:8080/",
     "height": 236
    },
    "id": "nxqK6JnHqBwT",
    "outputId": "392f27b0-2f62-45f2-cb8e-8f1ff27c0ed8"
   },
   "outputs": [
    {
     "data": {
      "text/html": [
       "<div>\n",
       "<style scoped>\n",
       "    .dataframe tbody tr th:only-of-type {\n",
       "        vertical-align: middle;\n",
       "    }\n",
       "\n",
       "    .dataframe tbody tr th {\n",
       "        vertical-align: top;\n",
       "    }\n",
       "\n",
       "    .dataframe thead th {\n",
       "        text-align: right;\n",
       "    }\n",
       "</style>\n",
       "<table border=\"1\" class=\"dataframe\">\n",
       "  <thead>\n",
       "    <tr style=\"text-align: right;\">\n",
       "      <th></th>\n",
       "      <th>a</th>\n",
       "      <th>aaron</th>\n",
       "      <th>abandoned</th>\n",
       "      <th>abc</th>\n",
       "      <th>ability</th>\n",
       "      <th>able</th>\n",
       "      <th>absence</th>\n",
       "      <th>absent</th>\n",
       "      <th>absolute</th>\n",
       "      <th>absolutely</th>\n",
       "      <th>...</th>\n",
       "      <th>yet</th>\n",
       "      <th>york</th>\n",
       "      <th>young</th>\n",
       "      <th>younger</th>\n",
       "      <th>youngster</th>\n",
       "      <th>youth</th>\n",
       "      <th>z</th>\n",
       "      <th>zero</th>\n",
       "      <th>zombie</th>\n",
       "      <th>zone</th>\n",
       "    </tr>\n",
       "  </thead>\n",
       "  <tbody>\n",
       "    <tr>\n",
       "      <th>0</th>\n",
       "      <td>1</td>\n",
       "      <td>0</td>\n",
       "      <td>0</td>\n",
       "      <td>0</td>\n",
       "      <td>0</td>\n",
       "      <td>0</td>\n",
       "      <td>0</td>\n",
       "      <td>0</td>\n",
       "      <td>0</td>\n",
       "      <td>0</td>\n",
       "      <td>...</td>\n",
       "      <td>0</td>\n",
       "      <td>0</td>\n",
       "      <td>1</td>\n",
       "      <td>0</td>\n",
       "      <td>0</td>\n",
       "      <td>0</td>\n",
       "      <td>0</td>\n",
       "      <td>0</td>\n",
       "      <td>0</td>\n",
       "      <td>0</td>\n",
       "    </tr>\n",
       "    <tr>\n",
       "      <th>1</th>\n",
       "      <td>0</td>\n",
       "      <td>0</td>\n",
       "      <td>0</td>\n",
       "      <td>0</td>\n",
       "      <td>0</td>\n",
       "      <td>0</td>\n",
       "      <td>0</td>\n",
       "      <td>0</td>\n",
       "      <td>0</td>\n",
       "      <td>0</td>\n",
       "      <td>...</td>\n",
       "      <td>0</td>\n",
       "      <td>0</td>\n",
       "      <td>0</td>\n",
       "      <td>0</td>\n",
       "      <td>0</td>\n",
       "      <td>0</td>\n",
       "      <td>0</td>\n",
       "      <td>0</td>\n",
       "      <td>0</td>\n",
       "      <td>0</td>\n",
       "    </tr>\n",
       "    <tr>\n",
       "      <th>2</th>\n",
       "      <td>0</td>\n",
       "      <td>0</td>\n",
       "      <td>0</td>\n",
       "      <td>0</td>\n",
       "      <td>0</td>\n",
       "      <td>0</td>\n",
       "      <td>0</td>\n",
       "      <td>0</td>\n",
       "      <td>0</td>\n",
       "      <td>0</td>\n",
       "      <td>...</td>\n",
       "      <td>0</td>\n",
       "      <td>0</td>\n",
       "      <td>0</td>\n",
       "      <td>0</td>\n",
       "      <td>0</td>\n",
       "      <td>0</td>\n",
       "      <td>0</td>\n",
       "      <td>0</td>\n",
       "      <td>0</td>\n",
       "      <td>0</td>\n",
       "    </tr>\n",
       "    <tr>\n",
       "      <th>3</th>\n",
       "      <td>0</td>\n",
       "      <td>0</td>\n",
       "      <td>0</td>\n",
       "      <td>0</td>\n",
       "      <td>0</td>\n",
       "      <td>0</td>\n",
       "      <td>0</td>\n",
       "      <td>0</td>\n",
       "      <td>0</td>\n",
       "      <td>0</td>\n",
       "      <td>...</td>\n",
       "      <td>0</td>\n",
       "      <td>0</td>\n",
       "      <td>0</td>\n",
       "      <td>0</td>\n",
       "      <td>0</td>\n",
       "      <td>0</td>\n",
       "      <td>0</td>\n",
       "      <td>0</td>\n",
       "      <td>0</td>\n",
       "      <td>0</td>\n",
       "    </tr>\n",
       "    <tr>\n",
       "      <th>4</th>\n",
       "      <td>0</td>\n",
       "      <td>0</td>\n",
       "      <td>0</td>\n",
       "      <td>0</td>\n",
       "      <td>0</td>\n",
       "      <td>0</td>\n",
       "      <td>0</td>\n",
       "      <td>0</td>\n",
       "      <td>0</td>\n",
       "      <td>0</td>\n",
       "      <td>...</td>\n",
       "      <td>1</td>\n",
       "      <td>0</td>\n",
       "      <td>0</td>\n",
       "      <td>0</td>\n",
       "      <td>0</td>\n",
       "      <td>0</td>\n",
       "      <td>0</td>\n",
       "      <td>0</td>\n",
       "      <td>0</td>\n",
       "      <td>0</td>\n",
       "    </tr>\n",
       "  </tbody>\n",
       "</table>\n",
       "<p>5 rows × 5000 columns</p>\n",
       "</div>"
      ],
      "text/plain": [
       "   a  aaron  abandoned  abc  ability  able  absence  absent  absolute  \\\n",
       "0  1      0          0    0        0     0        0       0         0   \n",
       "1  0      0          0    0        0     0        0       0         0   \n",
       "2  0      0          0    0        0     0        0       0         0   \n",
       "3  0      0          0    0        0     0        0       0         0   \n",
       "4  0      0          0    0        0     0        0       0         0   \n",
       "\n",
       "   absolutely  ...  yet  york  young  younger  youngster  youth  z  zero  \\\n",
       "0           0  ...    0     0      1        0          0      0  0     0   \n",
       "1           0  ...    0     0      0        0          0      0  0     0   \n",
       "2           0  ...    0     0      0        0          0      0  0     0   \n",
       "3           0  ...    0     0      0        0          0      0  0     0   \n",
       "4           0  ...    1     0      0        0          0      0  0     0   \n",
       "\n",
       "   zombie  zone  \n",
       "0       0     0  \n",
       "1       0     0  \n",
       "2       0     0  \n",
       "3       0     0  \n",
       "4       0     0  \n",
       "\n",
       "[5 rows x 5000 columns]"
      ]
     },
     "execution_count": 34,
     "metadata": {},
     "output_type": "execute_result"
    }
   ],
   "source": [
    "X_countvect_train = pd.DataFrame(c_vect.fit_transform(X_train).toarray(), columns=c_vect.get_feature_names_out())\n",
    "X_countvect_test = pd.DataFrame(c_vect.transform(X_test).toarray(), columns=c_vect.get_feature_names_out())\n",
    "X_countvect_train.head()"
   ]
  },
  {
   "cell_type": "code",
   "execution_count": 35,
   "metadata": {
    "id": "L73P9N5AWfxv"
   },
   "outputs": [],
   "source": [
    "# sklearn TfidfVectorizer\n",
    "# https://medium.com/@cmukesh8688/tf-idf-vectorizer-scikit-learn-dbc0244a911a\n",
    "# https://scikit-learn.org/stable/modules/generated/sklearn.feature_extraction.text.TfidfVectorizer.html\n",
    "from sklearn.feature_extraction.text import TfidfVectorizer\n",
    "t_vect = TfidfVectorizer(max_df = 0.8, min_df = 3, tokenizer=word_tokenize, stop_words=frozenset(stop_words_tokens), max_features=5000)"
   ]
  },
  {
   "cell_type": "code",
   "execution_count": 36,
   "metadata": {
    "id": "FiX-zI0fr-JH"
   },
   "outputs": [
    {
     "data": {
      "text/html": [
       "<div>\n",
       "<style scoped>\n",
       "    .dataframe tbody tr th:only-of-type {\n",
       "        vertical-align: middle;\n",
       "    }\n",
       "\n",
       "    .dataframe tbody tr th {\n",
       "        vertical-align: top;\n",
       "    }\n",
       "\n",
       "    .dataframe thead th {\n",
       "        text-align: right;\n",
       "    }\n",
       "</style>\n",
       "<table border=\"1\" class=\"dataframe\">\n",
       "  <thead>\n",
       "    <tr style=\"text-align: right;\">\n",
       "      <th></th>\n",
       "      <th>a</th>\n",
       "      <th>aaron</th>\n",
       "      <th>abandoned</th>\n",
       "      <th>abc</th>\n",
       "      <th>ability</th>\n",
       "      <th>able</th>\n",
       "      <th>absence</th>\n",
       "      <th>absent</th>\n",
       "      <th>absolute</th>\n",
       "      <th>absolutely</th>\n",
       "      <th>...</th>\n",
       "      <th>yet</th>\n",
       "      <th>york</th>\n",
       "      <th>young</th>\n",
       "      <th>younger</th>\n",
       "      <th>youngster</th>\n",
       "      <th>youth</th>\n",
       "      <th>z</th>\n",
       "      <th>zero</th>\n",
       "      <th>zombie</th>\n",
       "      <th>zone</th>\n",
       "    </tr>\n",
       "  </thead>\n",
       "  <tbody>\n",
       "    <tr>\n",
       "      <th>0</th>\n",
       "      <td>0.053855</td>\n",
       "      <td>0.0</td>\n",
       "      <td>0.0</td>\n",
       "      <td>0.0</td>\n",
       "      <td>0.0</td>\n",
       "      <td>0.0</td>\n",
       "      <td>0.0</td>\n",
       "      <td>0.0</td>\n",
       "      <td>0.0</td>\n",
       "      <td>0.0</td>\n",
       "      <td>...</td>\n",
       "      <td>0.00000</td>\n",
       "      <td>0.0</td>\n",
       "      <td>0.048122</td>\n",
       "      <td>0.0</td>\n",
       "      <td>0.0</td>\n",
       "      <td>0.0</td>\n",
       "      <td>0.0</td>\n",
       "      <td>0.0</td>\n",
       "      <td>0.0</td>\n",
       "      <td>0.0</td>\n",
       "    </tr>\n",
       "    <tr>\n",
       "      <th>1</th>\n",
       "      <td>0.000000</td>\n",
       "      <td>0.0</td>\n",
       "      <td>0.0</td>\n",
       "      <td>0.0</td>\n",
       "      <td>0.0</td>\n",
       "      <td>0.0</td>\n",
       "      <td>0.0</td>\n",
       "      <td>0.0</td>\n",
       "      <td>0.0</td>\n",
       "      <td>0.0</td>\n",
       "      <td>...</td>\n",
       "      <td>0.00000</td>\n",
       "      <td>0.0</td>\n",
       "      <td>0.000000</td>\n",
       "      <td>0.0</td>\n",
       "      <td>0.0</td>\n",
       "      <td>0.0</td>\n",
       "      <td>0.0</td>\n",
       "      <td>0.0</td>\n",
       "      <td>0.0</td>\n",
       "      <td>0.0</td>\n",
       "    </tr>\n",
       "    <tr>\n",
       "      <th>2</th>\n",
       "      <td>0.000000</td>\n",
       "      <td>0.0</td>\n",
       "      <td>0.0</td>\n",
       "      <td>0.0</td>\n",
       "      <td>0.0</td>\n",
       "      <td>0.0</td>\n",
       "      <td>0.0</td>\n",
       "      <td>0.0</td>\n",
       "      <td>0.0</td>\n",
       "      <td>0.0</td>\n",
       "      <td>...</td>\n",
       "      <td>0.00000</td>\n",
       "      <td>0.0</td>\n",
       "      <td>0.000000</td>\n",
       "      <td>0.0</td>\n",
       "      <td>0.0</td>\n",
       "      <td>0.0</td>\n",
       "      <td>0.0</td>\n",
       "      <td>0.0</td>\n",
       "      <td>0.0</td>\n",
       "      <td>0.0</td>\n",
       "    </tr>\n",
       "    <tr>\n",
       "      <th>3</th>\n",
       "      <td>0.000000</td>\n",
       "      <td>0.0</td>\n",
       "      <td>0.0</td>\n",
       "      <td>0.0</td>\n",
       "      <td>0.0</td>\n",
       "      <td>0.0</td>\n",
       "      <td>0.0</td>\n",
       "      <td>0.0</td>\n",
       "      <td>0.0</td>\n",
       "      <td>0.0</td>\n",
       "      <td>...</td>\n",
       "      <td>0.00000</td>\n",
       "      <td>0.0</td>\n",
       "      <td>0.000000</td>\n",
       "      <td>0.0</td>\n",
       "      <td>0.0</td>\n",
       "      <td>0.0</td>\n",
       "      <td>0.0</td>\n",
       "      <td>0.0</td>\n",
       "      <td>0.0</td>\n",
       "      <td>0.0</td>\n",
       "    </tr>\n",
       "    <tr>\n",
       "      <th>4</th>\n",
       "      <td>0.000000</td>\n",
       "      <td>0.0</td>\n",
       "      <td>0.0</td>\n",
       "      <td>0.0</td>\n",
       "      <td>0.0</td>\n",
       "      <td>0.0</td>\n",
       "      <td>0.0</td>\n",
       "      <td>0.0</td>\n",
       "      <td>0.0</td>\n",
       "      <td>0.0</td>\n",
       "      <td>...</td>\n",
       "      <td>0.05886</td>\n",
       "      <td>0.0</td>\n",
       "      <td>0.000000</td>\n",
       "      <td>0.0</td>\n",
       "      <td>0.0</td>\n",
       "      <td>0.0</td>\n",
       "      <td>0.0</td>\n",
       "      <td>0.0</td>\n",
       "      <td>0.0</td>\n",
       "      <td>0.0</td>\n",
       "    </tr>\n",
       "  </tbody>\n",
       "</table>\n",
       "<p>5 rows × 5000 columns</p>\n",
       "</div>"
      ],
      "text/plain": [
       "          a  aaron  abandoned  abc  ability  able  absence  absent  absolute  \\\n",
       "0  0.053855    0.0        0.0  0.0      0.0   0.0      0.0     0.0       0.0   \n",
       "1  0.000000    0.0        0.0  0.0      0.0   0.0      0.0     0.0       0.0   \n",
       "2  0.000000    0.0        0.0  0.0      0.0   0.0      0.0     0.0       0.0   \n",
       "3  0.000000    0.0        0.0  0.0      0.0   0.0      0.0     0.0       0.0   \n",
       "4  0.000000    0.0        0.0  0.0      0.0   0.0      0.0     0.0       0.0   \n",
       "\n",
       "   absolutely  ...      yet  york     young  younger  youngster  youth    z  \\\n",
       "0         0.0  ...  0.00000   0.0  0.048122      0.0        0.0    0.0  0.0   \n",
       "1         0.0  ...  0.00000   0.0  0.000000      0.0        0.0    0.0  0.0   \n",
       "2         0.0  ...  0.00000   0.0  0.000000      0.0        0.0    0.0  0.0   \n",
       "3         0.0  ...  0.00000   0.0  0.000000      0.0        0.0    0.0  0.0   \n",
       "4         0.0  ...  0.05886   0.0  0.000000      0.0        0.0    0.0  0.0   \n",
       "\n",
       "   zero  zombie  zone  \n",
       "0   0.0     0.0   0.0  \n",
       "1   0.0     0.0   0.0  \n",
       "2   0.0     0.0   0.0  \n",
       "3   0.0     0.0   0.0  \n",
       "4   0.0     0.0   0.0  \n",
       "\n",
       "[5 rows x 5000 columns]"
      ]
     },
     "execution_count": 36,
     "metadata": {},
     "output_type": "execute_result"
    }
   ],
   "source": [
    "X_tfidfvect_train = pd.DataFrame(t_vect.fit_transform(X_train).toarray(), columns=t_vect.get_feature_names_out())\n",
    "X_tfidfvect_test = pd.DataFrame(t_vect.transform(X_test).toarray(), columns=t_vect.get_feature_names_out())\n",
    "X_tfidfvect_train.head()"
   ]
  },
  {
   "cell_type": "code",
   "execution_count": 37,
   "metadata": {
    "id": "GaPRWWC2c9Y-"
   },
   "outputs": [],
   "source": [
    "def encode_y(y):\n",
    "  y[y == 'positive'] = 1\n",
    "  y[y == 'negative'] = 0\n",
    "  y.astype(int)\n",
    "  return y\n",
    "\n",
    "y_train = encode_y(y_train).astype(int)\n",
    "y_test = encode_y(y_test).astype(int)"
   ]
  },
  {
   "cell_type": "markdown",
   "metadata": {
    "id": "GjGv_zwbjUHM"
   },
   "source": [
    "# model training and evaluating\n",
    "\n",
    "Metric score used for evaluation is accuracy as the data has equal class distribution. Other than accuracy, the time used for model training and testing are also measured."
   ]
  },
  {
   "cell_type": "code",
   "execution_count": 38,
   "metadata": {
    "id": "BRHqmtHIgIgm"
   },
   "outputs": [],
   "source": [
    "from time import time"
   ]
  },
  {
   "cell_type": "code",
   "execution_count": 39,
   "metadata": {
    "id": "4y-6evQrFhrb"
   },
   "outputs": [
    {
     "name": "stdout",
     "output_type": "stream",
     "text": [
      "training done in 6.508801s\n",
      "testing done in 0.152023s\n",
      "logistic regression accuracy: 0.8864\n"
     ]
    }
   ],
   "source": [
    "# logistic Regression\n",
    "from sklearn.linear_model import LogisticRegression\n",
    "lr = LogisticRegression()\n",
    "\n",
    "t0 = time()    # start time\n",
    "lr.fit(X_tfidfvect_train, y_train)\n",
    "print (\"training done in %fs\" %(time() - t0))   # end of training \n",
    "\n",
    "t1 = time() \n",
    "lr_accuracy = lr.score(X_tfidfvect_test, y_test)\n",
    "print (\"testing done in %fs\" %(time() - t1))\n",
    "print('logistic regression accuracy:', lr_accuracy)"
   ]
  },
  {
   "cell_type": "code",
   "execution_count": 40,
   "metadata": {
    "id": "PHa1XXgyXRKE"
   },
   "outputs": [
    {
     "name": "stdout",
     "output_type": "stream",
     "text": [
      "training done in 0.420483s\n",
      "testing done in 0.145040s\n",
      "mnb accuracy: 0.8536666666666667\n"
     ]
    }
   ],
   "source": [
    "#Multinomial Naive Bayes\n",
    "from sklearn.naive_bayes import MultinomialNB\n",
    "mnb=MultinomialNB()\n",
    "\n",
    "t0 = time()    # start time\n",
    "mnb.fit(X_tfidfvect_train,y_train)\n",
    "print (\"training done in %fs\" %(time() - t0))   # end of training \n",
    "\n",
    "t1 = time() \n",
    "mnb_accuracy = mnb.score(X_tfidfvect_test, y_test)\n",
    "print (\"testing done in %fs\" %(time() - t1))\n",
    "\n",
    "print('mnb accuracy:', mnb_accuracy)"
   ]
  },
  {
   "cell_type": "code",
   "execution_count": 41,
   "metadata": {
    "id": "f3U_XXZaGc50"
   },
   "outputs": [
    {
     "name": "stdout",
     "output_type": "stream",
     "text": [
      "training done in 543.840702s\n",
      "testing done in 0.181042s\n",
      "mlp accuracy: 0.8795333333333333\n"
     ]
    },
    {
     "name": "stderr",
     "output_type": "stream",
     "text": [
      "c:\\Users\\Admin\\anaconda3\\lib\\site-packages\\sklearn\\neural_network\\_multilayer_perceptron.py:559: ConvergenceWarning: lbfgs failed to converge (status=1):\n",
      "STOP: TOTAL NO. of ITERATIONS REACHED LIMIT.\n",
      "\n",
      "Increase the number of iterations (max_iter) or scale the data as shown in:\n",
      "    https://scikit-learn.org/stable/modules/preprocessing.html\n",
      "  self.n_iter_ = _check_optimize_result(\"lbfgs\", opt_res, self.max_iter)\n"
     ]
    }
   ],
   "source": [
    "# neural network\n",
    "from sklearn.neural_network import MLPClassifier\n",
    "mlp = MLPClassifier(solver='lbfgs', alpha=1e-5, \n",
    "                    hidden_layer_sizes=(5, 2), random_state=1, max_iter=200)\n",
    "\n",
    "t0 = time()    # start time\n",
    "mlp.fit(X_tfidfvect_train, y_train)\n",
    "print (\"training done in %fs\" %(time() - t0))   # end of training \n",
    "\n",
    "t1 = time() \n",
    "mlp_accuracy = mlp.score(X_tfidfvect_test, y_test)\n",
    "print (\"testing done in %fs\" %(time() - t1))\n",
    "\n",
    "print('mlp accuracy:', mlp_accuracy)"
   ]
  },
  {
   "attachments": {},
   "cell_type": "markdown",
   "metadata": {},
   "source": [
    "## Finding feature coefficients for logistic regression model"
   ]
  },
  {
   "cell_type": "code",
   "execution_count": 70,
   "metadata": {},
   "outputs": [],
   "source": [
    "import matplotlib.pyplot as plt\n",
    "import matplotlib\n",
    "\n",
    "coef = pd.Series(lr.coef_.flatten(), index = X_tfidfvect_train.columns)\n",
    "\n",
    "imp_coef = pd.concat([coef.sort_values().head(20),\n",
    "                     coef.sort_values().tail(20)])\n",
    "\n"
   ]
  },
  {
   "cell_type": "code",
   "execution_count": 79,
   "metadata": {},
   "outputs": [
    {
     "data": {
      "text/plain": [
       "Text(0.5, 1.0, 'Top Coefficients for Negative Sentiment in the Logistic Regression Model')"
      ]
     },
     "execution_count": 79,
     "metadata": {},
     "output_type": "execute_result"
    },
    {
     "data": {
      "image/png": "[encoded data removed]",
      "text/plain": [
       "<Figure size 576x432 with 1 Axes>"
      ]
     },
     "metadata": {
      "needs_background": "light"
     },
     "output_type": "display_data"
    }
   ],
   "source": [
    "matplotlib.rcParams['figure.figsize'] = (8.0, 6.0)\n",
    "imp_coef.head(10).sort_values(ascending=False).plot(kind = \"barh\", color = '#6d6d6d')\n",
    "plt.title(\"Top Coefficients for Negative Sentiment in the Logistic Regression Model\")"
   ]
  },
  {
   "cell_type": "code",
   "execution_count": 77,
   "metadata": {},
   "outputs": [
    {
     "data": {
      "text/plain": [
       "Text(0.5, 1.0, 'Top Coefficients for Positive Sentiment in the Logistic Regression Model')"
      ]
     },
     "execution_count": 77,
     "metadata": {},
     "output_type": "execute_result"
    },
    {
     "data": {
      "image/png": "[encoded data removed]",
      "text/plain": [
       "<Figure size 576x432 with 1 Axes>"
      ]
     },
     "metadata": {
      "needs_background": "light"
     },
     "output_type": "display_data"
    }
   ],
   "source": [
    "matplotlib.rcParams['figure.figsize'] = (8.0, 6.0)\n",
    "imp_coef.tail(10).sort_values().plot(kind = \"barh\")\n",
    "plt.title(\"Top Coefficients for Positive Sentiment in the Logistic Regression Model\")"
   ]
  },
  {
   "cell_type": "code",
   "execution_count": null,
   "metadata": {},
   "outputs": [],
   "source": []
  }
 ],
 "metadata": {
  "colab": {
   "collapsed_sections": [
    "aeds7nNshT60",
    "ZFU_Dp8CjxLV",
    "FQbn2UF0rm_O"
   ],
   "provenance": []
  },
  "gpuClass": "standard",
  "kernelspec": {
   "display_name": "base",
   "language": "python",
   "name": "python3"
  },
  "language_info": {
   "codemirror_mode": {
    "name": "ipython",
    "version": 3
   },
   "file_extension": ".py",
   "mimetype": "text/x-python",
   "name": "python",
   "nbconvert_exporter": "python",
   "pygments_lexer": "ipython3",
   "version": "3.8.8 (default, Apr 13 2021, 15:08:03) [MSC v.1916 64 bit (AMD64)]"
  },
  "toc": {
   "base_numbering": 1,
   "nav_menu": {},
   "number_sections": true,
   "sideBar": true,
   "skip_h1_title": false,
   "title_cell": "Table of Contents",
   "title_sidebar": "Contents",
   "toc_cell": true,
   "toc_position": {},
   "toc_section_display": true,
   "toc_window_display": false
  },
  "vscode": {
   "interpreter": {
    "hash": "2043299c89c8cd0b4d1a6f5cf4529bd58e6a4e0fe3181a25e0d328c821cdc5c5"
   }
  }
 },
 "nbformat": 4,
 "nbformat_minor": 1
}
